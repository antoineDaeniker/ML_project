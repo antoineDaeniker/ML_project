{
 "cells": [
  {
   "cell_type": "code",
   "execution_count": 411,
   "metadata": {},
   "outputs": [
    {
     "name": "stdout",
     "output_type": "stream",
     "text": [
      "The autoreload extension is already loaded. To reload it, use:\n",
      "  %reload_ext autoreload\n"
     ]
    }
   ],
   "source": [
    "# Useful starting lines\n",
    "%matplotlib inline\n",
    "import numpy as np\n",
    "import matplotlib.pyplot as plt\n",
    "from implementations import *\n",
    "import datetime\n",
    "%load_ext autoreload\n",
    "%autoreload 2"
   ]
  },
  {
   "cell_type": "markdown",
   "metadata": {},
   "source": [
    "## Load the training data into feature matrix, class labels, and event ids:"
   ]
  },
  {
   "cell_type": "code",
   "execution_count": 406,
   "metadata": {},
   "outputs": [
    {
     "name": "stdout",
     "output_type": "stream",
     "text": [
      "(250000,) (250000, 30)\n"
     ]
    }
   ],
   "source": [
    "from proj1_helpers import *\n",
    "DATA_TRAIN_PATH = '/Users/AntoineDaeniker/Documents/EPFL/Master 1/ML_course/projects/project1/data/train.csv' # TODO: download train data and supply path here \n",
    "y, tX, tXt, ids = load_csv_data(DATA_TRAIN_PATH)\n",
    "print(y.shape, tX.shape)"
   ]
  },
  {
   "cell_type": "markdown",
   "metadata": {},
   "source": [
    "## Do your thing crazy machine learning thing here :) ..."
   ]
  },
  {
   "cell_type": "code",
   "execution_count": 412,
   "metadata": {},
   "outputs": [],
   "source": [
    "###### PRE_PROCESSING #######\n",
    "temp = tX.copy()\n",
    "tX_norm = np.zeros(tX.shape)\n",
    "temp[temp == -999] = 0\n",
    "mean_features = np.mean(temp, axis=0)\n",
    "std_features = np.std(temp, axis=0)\n",
    "for i, f in enumerate(tX.T):\n",
    "    f[f == -999] = mean_features[i]\n",
    "    #tX_norm[:, i] = f\n",
    "    tX_norm[:, i] = (f - mean_features[i]) / std_features[i]\n",
    "\n",
    "tXt_norm = np.c_[np.ones(len(y)), tX_norm]\n",
    "#tXt_norm = np.c_[np.ones(len(y)) / len(y), tX_norm]"
   ]
  },
  {
   "cell_type": "code",
   "execution_count": 431,
   "metadata": {},
   "outputs": [
    {
     "name": "stdout",
     "output_type": "stream",
     "text": [
      "Gradient Descent(74/74): loss=20.858317793272736\n",
      "SGD: execution time=2.689 seconds, gamma = 0.0001\n",
      "\n",
      "Gradient Descent(74/74): loss=16.234468903890463\n",
      "SGD: execution time=2.458 seconds, gamma = 0.00013738237958832623\n",
      "\n",
      "Gradient Descent(74/74): loss=15.404822315107575\n",
      "SGD: execution time=2.492 seconds, gamma = 0.00018873918221350977\n",
      "\n",
      "Gradient Descent(74/74): loss=13.532759867318156\n",
      "SGD: execution time=3.256 seconds, gamma = 0.0002592943797404667\n",
      "\n",
      "Gradient Descent(74/74): loss=12.081955925823014\n",
      "SGD: execution time=2.472 seconds, gamma = 0.0003562247890262444\n",
      "\n",
      "Gradient Descent(74/74): loss=7.9748328916891299\n",
      "SGD: execution time=2.455 seconds, gamma = 0.0004893900918477494\n",
      "\n",
      "Gradient Descent(74/74): loss=8.0962940514033787\n",
      "SGD: execution time=2.593 seconds, gamma = 0.0006723357536499335\n",
      "\n",
      "Gradient Descent(74/74): loss=5.6586304278341356\n",
      "SGD: execution time=2.592 seconds, gamma = 0.0009236708571873865\n",
      "\n",
      "Gradient Descent(74/74): loss=5.5592422544178595\n",
      "SGD: execution time=2.537 seconds, gamma = 0.0012689610031679222\n",
      "\n",
      "Gradient Descent(74/74): loss=3.7156080155507876\n",
      "SGD: execution time=2.530 seconds, gamma = 0.0017433288221999873\n",
      "\n",
      "Gradient Descent(74/74): loss=4.3471429793819074\n",
      "SGD: execution time=2.553 seconds, gamma = 0.002395026619987486\n",
      "\n",
      "Gradient Descent(74/74): loss=2.0012509625852357\n",
      "SGD: execution time=2.540 seconds, gamma = 0.0032903445623126675\n",
      "\n",
      "Gradient Descent(74/74): loss=1.9980493214317636\n",
      "SGD: execution time=2.572 seconds, gamma = 0.004520353656360241\n",
      "\n",
      "Gradient Descent(74/74): loss=1.3426210556536284\n",
      "SGD: execution time=2.597 seconds, gamma = 0.006210169418915616\n",
      "\n",
      "Gradient Descent(74/74): loss=1.0272320917496485\n",
      "SGD: execution time=2.485 seconds, gamma = 0.008531678524172805\n",
      "\n",
      "Gradient Descent(74/74): loss=0.7950313699848522\n",
      "SGD: execution time=2.478 seconds, gamma = 0.011721022975334805\n",
      "\n",
      "Gradient Descent(74/74): loss=0.7174706648224135\n",
      "SGD: execution time=2.503 seconds, gamma = 0.01610262027560939\n",
      "\n",
      "Gradient Descent(74/74): loss=0.5391019814089104\n",
      "SGD: execution time=3.010 seconds, gamma = 0.02212216291070448\n",
      "\n",
      "Gradient Descent(74/74): loss=0.46110148068427855\n",
      "SGD: execution time=4.138 seconds, gamma = 0.03039195382313198\n",
      "\n",
      "Gradient Descent(74/74): loss=0.40235118194426783\n",
      "SGD: execution time=2.736 seconds, gamma = 0.041753189365604\n",
      "\n",
      "Gradient Descent(74/74): loss=0.36711878482948374\n",
      "SGD: execution time=2.472 seconds, gamma = 0.05736152510448681\n",
      "\n",
      "Gradient Descent(74/74): loss=0.35800479254144374\n",
      "SGD: execution time=2.478 seconds, gamma = 0.07880462815669913\n",
      "\n",
      "Gradient Descent(74/74): loss=0.34651838559715275\n",
      "SGD: execution time=2.476 seconds, gamma = 0.1082636733874054\n",
      "\n",
      "Gradient Descent(74/74): loss=0.34304423302875553\n",
      "SGD: execution time=2.582 seconds, gamma = 0.14873521072935117\n",
      "\n",
      "Gradient Descent(74/74): loss=0.34223918070728525\n",
      "SGD: execution time=3.320 seconds, gamma = 0.20433597178569418\n",
      "\n",
      "Gradient Descent(74/74): loss=185708584008.41814\n",
      "SGD: execution time=2.608 seconds, gamma = 0.2807216203941176\n",
      "\n",
      "Gradient Descent(74/74): loss=1.3836776059866662e+45\n",
      "SGD: execution time=2.545 seconds, gamma = 0.38566204211634725\n",
      "\n",
      "Gradient Descent(74/74): loss=5.64046866352774e+7329\n",
      "SGD: execution time=2.588 seconds, gamma = 0.5298316906283708\n",
      "\n",
      "Gradient Descent(74/74): loss=7.124871260455764e+998\n",
      "SGD: execution time=2.592 seconds, gamma = 0.7278953843983146\n",
      "\n",
      "Gradient Descent(74/74): loss=4.8353000356887775e+123\n",
      "SGD: execution time=2.626 seconds, gamma = 1.0\n",
      "\n",
      "0.20433597178569418\n"
     ]
    }
   ],
   "source": [
    "# from stochastic_gradient_descent import *\n",
    "# Define the parameters of the algorithm.\n",
    "gammas = np.logspace(-4, 0, 30)\n",
    "losses = []\n",
    "\n",
    "for gamma in gammas:\n",
    "    max_iters = 75\n",
    "    #gamma = 2*10**(-1)\n",
    "    batch_size = 1\n",
    "\n",
    "    # Initialization\n",
    "    w_initial = np.random.rand(tXt_norm.shape[1])\n",
    "\n",
    "    # Start SGD.\n",
    "    start_time = datetime.datetime.now()\n",
    "    sgd_losses, sgd_ws = gradient_descent(\n",
    "        y, tXt_norm, w_initial, max_iters, gamma)\n",
    "    end_time = datetime.datetime.now()\n",
    "    losses.append(sgd_losses[len(sgd_losses) - 1])\n",
    "\n",
    "    # Print result\n",
    "    exection_time = (end_time - start_time).total_seconds()\n",
    "    print(\"\\nSGD: execution time={t:.3f} seconds, gamma = {gamma}\\n\".format(t=exection_time, gamma=gamma))\n",
    "    \n",
    "print(gammas[np.argmin(losses)])"
   ]
  },
  {
   "cell_type": "code",
   "execution_count": 432,
   "metadata": {},
   "outputs": [
    {
     "name": "stdout",
     "output_type": "stream",
     "text": [
      "Gradient Descent(74/74): loss=0.34225022956605644\n",
      "SGD: execution time=3.086 seconds, gamma = 0.2\n",
      "\n"
     ]
    }
   ],
   "source": [
    "max_iters = 75\n",
    "gamma = 2*10**(-1)\n",
    "batch_size = 1\n",
    "\n",
    "# Initialization\n",
    "w_initial = np.random.rand(tXt_norm.shape[1])\n",
    "\n",
    "# Start SGD.\n",
    "start_time = datetime.datetime.now()\n",
    "sgd_losses, sgd_ws = gradient_descent(\n",
    "    y, tXt_norm, w_initial, max_iters, gamma)\n",
    "end_time = datetime.datetime.now()\n",
    "losses.append(sgd_losses[len(sgd_losses) - 1])\n",
    "\n",
    "# Print result\n",
    "exection_time = (end_time - start_time).total_seconds()\n",
    "print(\"\\nSGD: execution time={t:.3f} seconds, gamma = {gamma}\\n\".format(t=exection_time, gamma=gamma))"
   ]
  },
  {
   "cell_type": "code",
   "execution_count": 433,
   "metadata": {},
   "outputs": [
    {
     "data": {
      "text/plain": [
       "array([0.78831912, 0.22213403, 0.34805589, 0.28822728, 0.94841107,\n",
       "       0.65690107, 0.28598242, 0.69899104, 0.9247574 , 0.96614318,\n",
       "       0.04776264, 0.75240224, 0.67852607, 0.63335213, 0.6538142 ,\n",
       "       0.08255559, 0.90744994, 0.58047609, 0.12528789, 0.04889966,\n",
       "       0.98583582, 0.65355492, 0.636003  , 0.26956306, 0.4033466 ,\n",
       "       0.8787786 , 0.10022949, 0.9242482 , 0.37566443, 0.17540399,\n",
       "       0.59563593])"
      ]
     },
     "execution_count": 433,
     "metadata": {},
     "output_type": "execute_result"
    }
   ],
   "source": [
    "w_initial"
   ]
  },
  {
   "cell_type": "code",
   "execution_count": 434,
   "metadata": {},
   "outputs": [
    {
     "data": {
      "text/plain": [
       "[<matplotlib.lines.Line2D at 0x7f9228670fd0>]"
      ]
     },
     "execution_count": 434,
     "metadata": {},
     "output_type": "execute_result"
    },
    {
     "data": {
      "image/png": "[encoded data removed]",
      "text/plain": [
       "<Figure size 432x288 with 1 Axes>"
      ]
     },
     "metadata": {
      "needs_background": "light"
     },
     "output_type": "display_data"
    }
   ],
   "source": [
    "plt.plot(np.arange(max_iters), sgd_losses)"
   ]
  },
  {
   "cell_type": "markdown",
   "metadata": {},
   "source": [
    "## Generate predictions and save ouput in csv format for submission:"
   ]
  },
  {
   "cell_type": "code",
   "execution_count": 335,
   "metadata": {},
   "outputs": [],
   "source": [
    "DATA_TEST_PATH = '/Users/AntoineDaeniker/Documents/EPFL/Master 1/ML_course/projects/project1/data/test.csv' # TODO: download train data and supply path here \n",
    "y_test, tX_test, tXt_test, ids_test = load_csv_data(DATA_TEST_PATH)"
   ]
  },
  {
   "cell_type": "code",
   "execution_count": 435,
   "metadata": {},
   "outputs": [],
   "source": [
    "###### PRE_PROCESSING #######\n",
    "temp_test = tX_test.copy()\n",
    "tX_norm_test = np.zeros(tX_test.shape)\n",
    "temp_test[temp_test == -999] = 0\n",
    "mean_features_test = np.mean(temp_test, axis=0)\n",
    "std_features_test = np.std(temp_test, axis=0)\n",
    "for i, f in enumerate(tX_test.T):\n",
    "    f[f == -999] = mean_features_test[i]\n",
    "    tX_norm_test[:, i] = (f - mean_features_test[i]) / std_features_test[i]\n",
    "    \n",
    "tXt_norm_test = np.c_[np.ones(len(y_test)), tX_norm_test]"
   ]
  },
  {
   "cell_type": "code",
   "execution_count": 436,
   "metadata": {},
   "outputs": [
    {
     "data": {
      "text/plain": [
       "array([-3.14663941e-01,  5.72695862e-03, -2.25932780e-01, -2.35782663e-01,\n",
       "        1.23240169e-01,  1.08900312e-01,  6.39849704e-02,  2.82250055e-02,\n",
       "        2.78228100e-01, -2.02671327e-02, -4.42249031e-01, -1.00766204e-01,\n",
       "        1.22203077e-01,  6.32378262e-02,  3.04359872e-01, -1.30962504e-03,\n",
       "       -1.05564546e-03,  2.64907457e-01,  1.80830120e-04,  2.69452840e-03,\n",
       "        5.61459185e-02,  1.09122160e-03, -3.36754276e-02, -1.60713038e-02,\n",
       "        4.88634200e-03,  4.17451411e-04,  1.52785819e-04,  5.26140636e-02,\n",
       "        1.78507073e-03, -1.49047402e-03,  1.68129311e-01])"
      ]
     },
     "execution_count": 436,
     "metadata": {},
     "output_type": "execute_result"
    }
   ],
   "source": [
    "sgd_ws"
   ]
  },
  {
   "cell_type": "code",
   "execution_count": 437,
   "metadata": {},
   "outputs": [
    {
     "data": {
      "text/plain": [
       "74.3468"
      ]
     },
     "execution_count": 437,
     "metadata": {},
     "output_type": "execute_result"
    }
   ],
   "source": [
    "pred_train = predict_labels(sgd_ws, tXt_norm)\n",
    "len(pred_train[abs(pred_train-y) == 0]) * 100 / len(y)"
   ]
  },
  {
   "cell_type": "code",
   "execution_count": 438,
   "metadata": {},
   "outputs": [
    {
     "data": {
      "text/plain": [
       "23.90530024391188"
      ]
     },
     "execution_count": 438,
     "metadata": {},
     "output_type": "execute_result"
    }
   ],
   "source": [
    "pred_test = predict_labels(sgd_ws, tXt_norm_test)\n",
    "len(pred_test[abs(pred_test-y_test) == 0]) * 100 / len(y_test)"
   ]
  },
  {
   "cell_type": "code",
   "execution_count": 196,
   "metadata": {},
   "outputs": [
    {
     "ename": "NameError",
     "evalue": "name 'weights' is not defined",
     "output_type": "error",
     "traceback": [
      "\u001b[0;31m---------------------------------------------------------------------------\u001b[0m",
      "\u001b[0;31mNameError\u001b[0m                                 Traceback (most recent call last)",
      "\u001b[0;32m/var/folders/f3/3d8xjmhn3lb1y_bqwhqfy7t80000gn/T/ipykernel_54714/2223051364.py\u001b[0m in \u001b[0;36m<module>\u001b[0;34m\u001b[0m\n\u001b[1;32m      1\u001b[0m \u001b[0mOUTPUT_PATH\u001b[0m \u001b[0;34m=\u001b[0m \u001b[0;34m''\u001b[0m \u001b[0;31m# TODO: fill in desired name of output file for submission\u001b[0m\u001b[0;34m\u001b[0m\u001b[0;34m\u001b[0m\u001b[0m\n\u001b[0;32m----> 2\u001b[0;31m \u001b[0my_pred\u001b[0m \u001b[0;34m=\u001b[0m \u001b[0mpredict_labels\u001b[0m\u001b[0;34m(\u001b[0m\u001b[0mweights\u001b[0m\u001b[0;34m,\u001b[0m \u001b[0mtX_test\u001b[0m\u001b[0;34m)\u001b[0m\u001b[0;34m\u001b[0m\u001b[0;34m\u001b[0m\u001b[0m\n\u001b[0m\u001b[1;32m      3\u001b[0m \u001b[0mcreate_csv_submission\u001b[0m\u001b[0;34m(\u001b[0m\u001b[0mids_test\u001b[0m\u001b[0;34m,\u001b[0m \u001b[0my_pred\u001b[0m\u001b[0;34m,\u001b[0m \u001b[0mOUTPUT_PATH\u001b[0m\u001b[0;34m)\u001b[0m\u001b[0;34m\u001b[0m\u001b[0;34m\u001b[0m\u001b[0m\n",
      "\u001b[0;31mNameError\u001b[0m: name 'weights' is not defined"
     ]
    }
   ],
   "source": [
    "OUTPUT_PATH = '' # TODO: fill in desired name of output file for submission\n",
    "y_pred = predict_labels(weights, tX_test)\n",
    "create_csv_submission(ids_test, y_pred, OUTPUT_PATH)"
   ]
  },
  {
   "cell_type": "code",
   "execution_count": null,
   "metadata": {
    "collapsed": true
   },
   "outputs": [],
   "source": []
  }
 ],
 "metadata": {
  "anaconda-cloud": {},
  "kernelspec": {
   "display_name": "Python 3 (ipykernel)",
   "language": "python",
   "name": "python3"
  },
  "language_info": {
   "codemirror_mode": {
    "name": "ipython",
    "version": 3
   },
   "file_extension": ".py",
   "mimetype": "text/x-python",
   "name": "python",
   "nbconvert_exporter": "python",
   "pygments_lexer": "ipython3",
   "version": "3.7.9"
  }
 },
 "nbformat": 4,
 "nbformat_minor": 1
}
