{
 "cells": [
  {
   "cell_type": "code",
   "execution_count": 8,
   "id": "8166b88b",
   "metadata": {},
   "outputs": [
    {
     "name": "stdout",
     "output_type": "stream",
     "text": [
      "The autoreload extension is already loaded. To reload it, use:\n",
      "  %reload_ext autoreload\n"
     ]
    }
   ],
   "source": [
    "# Useful starting lines\n",
    "%matplotlib inline\n",
    "import numpy as np\n",
    "import matplotlib.pyplot as plt\n",
    "from implementations import *\n",
    "import datetime\n",
    "%load_ext autoreload\n",
    "%autoreload 2"
   ]
  },
  {
   "cell_type": "code",
   "execution_count": 9,
   "id": "49254bfd",
   "metadata": {},
   "outputs": [
    {
     "name": "stdout",
     "output_type": "stream",
     "text": [
      "(250000,) (250000, 30)\n"
     ]
    }
   ],
   "source": [
    "from proj1_helpers import *\n",
    "DATA_TRAIN_PATH = '/Users/AntoineDaeniker/Documents/EPFL/Master 1/ML_course/projects/project1/data/train.csv' # TODO: download train data and supply path here \n",
    "y, tX, tXt, ids = load_csv_data(DATA_TRAIN_PATH)\n",
    "print(y.shape, tX.shape)"
   ]
  },
  {
   "cell_type": "code",
   "execution_count": 13,
   "id": "368e2b1b",
   "metadata": {},
   "outputs": [],
   "source": [
    "new_data = data_process(tX)"
   ]
  },
  {
   "cell_type": "code",
   "execution_count": 23,
   "id": "cc871432",
   "metadata": {},
   "outputs": [
    {
     "data": {
      "image/png": "[encoded data removed]",
      "text/plain": [
       "<Figure size 432x288 with 2 Axes>"
      ]
     },
     "metadata": {
      "needs_background": "light"
     },
     "output_type": "display_data"
    }
   ],
   "source": [
    "corr_mat = np.corrcoef(new_data, rowvar=False)\n",
    "plt.imshow(np.abs(corr_mat), cmap='Blues')\n",
    "plt.colorbar()\n",
    "plt.show()"
   ]
  },
  {
   "cell_type": "code",
   "execution_count": 27,
   "id": "c0e33034",
   "metadata": {},
   "outputs": [
    {
     "name": "stdout",
     "output_type": "stream",
     "text": [
      "[[ 0  2]\n",
      " [ 2  0]\n",
      " [ 3  9]\n",
      " [ 3 19]\n",
      " [ 3 21]\n",
      " [ 3 22]\n",
      " [ 3 23]\n",
      " [ 3 29]\n",
      " [ 4  5]\n",
      " [ 4 12]\n",
      " [ 5  4]\n",
      " [ 5 12]\n",
      " [ 9  3]\n",
      " [ 9 21]\n",
      " [ 9 22]\n",
      " [ 9 23]\n",
      " [ 9 26]\n",
      " [ 9 29]\n",
      " [10 16]\n",
      " [12  4]\n",
      " [12  5]\n",
      " [16 10]\n",
      " [19  3]\n",
      " [21  3]\n",
      " [21  9]\n",
      " [21 22]\n",
      " [21 23]\n",
      " [21 26]\n",
      " [21 29]\n",
      " [22  3]\n",
      " [22  9]\n",
      " [22 21]\n",
      " [22 26]\n",
      " [22 29]\n",
      " [23  3]\n",
      " [23  9]\n",
      " [23 21]\n",
      " [23 26]\n",
      " [23 29]\n",
      " [26  9]\n",
      " [26 21]\n",
      " [26 22]\n",
      " [26 23]\n",
      " [26 29]\n",
      " [29  3]\n",
      " [29  9]\n",
      " [29 21]\n",
      " [29 22]\n",
      " [29 23]\n",
      " [29 26]]\n"
     ]
    }
   ],
   "source": [
    "print(np.argwhere((corr_mat - np.eye(30)) > 0.6))"
   ]
  },
  {
   "cell_type": "code",
   "execution_count": null,
   "id": "658f5dae",
   "metadata": {},
   "outputs": [],
   "source": []
  },
  {
   "cell_type": "code",
   "execution_count": null,
   "id": "0d1d0cd4",
   "metadata": {},
   "outputs": [],
   "source": []
  },
  {
   "cell_type": "code",
   "execution_count": null,
   "id": "ad02468e",
   "metadata": {},
   "outputs": [],
   "source": []
  },
  {
   "cell_type": "code",
   "execution_count": null,
   "id": "9b44dc95",
   "metadata": {},
   "outputs": [],
   "source": []
  },
  {
   "cell_type": "code",
   "execution_count": null,
   "id": "1c8d4e4e",
   "metadata": {},
   "outputs": [],
   "source": []
  },
  {
   "cell_type": "code",
   "execution_count": null,
   "id": "afa4fa1b",
   "metadata": {},
   "outputs": [],
   "source": []
  }
 ],
 "metadata": {
  "kernelspec": {
   "display_name": "Python 3 (ipykernel)",
   "language": "python",
   "name": "python3"
  },
  "language_info": {
   "codemirror_mode": {
    "name": "ipython",
    "version": 3
   },
   "file_extension": ".py",
   "mimetype": "text/x-python",
   "name": "python",
   "nbconvert_exporter": "python",
   "pygments_lexer": "ipython3",
   "version": "3.7.9"
  }
 },
 "nbformat": 4,
 "nbformat_minor": 5
}
