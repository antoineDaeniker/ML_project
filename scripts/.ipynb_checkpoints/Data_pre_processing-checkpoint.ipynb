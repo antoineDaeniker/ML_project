{
 "cells": [
  {
   "cell_type": "code",
   "execution_count": 1,
   "id": "b4de8858",
   "metadata": {},
   "outputs": [],
   "source": [
    "# Useful starting lines\n",
    "%matplotlib inline\n",
    "import numpy as np\n",
    "import matplotlib.pyplot as plt\n",
    "from implementations import *\n",
    "import datetime\n",
    "%load_ext autoreload\n",
    "%autoreload 2"
   ]
  },
  {
   "cell_type": "code",
   "execution_count": 2,
   "id": "a6a06bd2",
   "metadata": {},
   "outputs": [
    {
     "name": "stdout",
     "output_type": "stream",
     "text": [
      "(250000,) (250000, 30)\n"
     ]
    }
   ],
   "source": [
    "from proj1_helpers import *\n",
    "DATA_TRAIN_PATH = '/Users/AntoineDaeniker/Documents/EPFL/Master 1/ML_course/projects/project1/data/train.csv' # TODO: download train data and supply path here \n",
    "y, tX, tXt, ids = load_csv_data(DATA_TRAIN_PATH)\n",
    "print(y.shape, tX.shape)"
   ]
  },
  {
   "cell_type": "code",
   "execution_count": 3,
   "id": "c523499f",
   "metadata": {},
   "outputs": [],
   "source": [
    "data_list, y_list, feat_ind = subdivide_data(tX, y)"
   ]
  },
  {
   "cell_type": "code",
   "execution_count": 4,
   "id": "9bf736f3",
   "metadata": {},
   "outputs": [
    {
     "name": "stdout",
     "output_type": "stream",
     "text": [
      "(99913, 29)\n",
      "(77544, 29)\n",
      "(50379, 29)\n",
      "(22164, 29)\n"
     ]
    }
   ],
   "source": [
    "for data in data_list:\n",
    "    print(data.shape)"
   ]
  },
  {
   "cell_type": "code",
   "execution_count": 5,
   "id": "8c67c018",
   "metadata": {},
   "outputs": [
    {
     "name": "stderr",
     "output_type": "stream",
     "text": [
      "/Users/AntoineDaeniker/anaconda3/lib/python3.7/site-packages/numpy/lib/function_base.py:2559: RuntimeWarning: invalid value encountered in true_divide\n",
      "  c /= stddev[:, None]\n",
      "/Users/AntoineDaeniker/anaconda3/lib/python3.7/site-packages/numpy/lib/function_base.py:2560: RuntimeWarning: invalid value encountered in true_divide\n",
      "  c /= stddev[None, :]\n"
     ]
    },
    {
     "name": "stdout",
     "output_type": "stream",
     "text": [
      "(99913, 16)\n",
      "(77544, 19)\n",
      "(50379, 23)\n",
      "(22164, 25)\n"
     ]
    }
   ],
   "source": [
    "data_reduce_list = []\n",
    "threshold = 0.8\n",
    "threshold_irr = 0.5\n",
    "rmv_feat_idx_list = []\n",
    "for i, data in enumerate(data_list):\n",
    "    data_reduce, irr_idx = delete_irr_features(data, threshold_irr)\n",
    "    data_reduce, corr_idx, _ = feature_selection(data_reduce, threshold)\n",
    "    data_reduce, std_0_feat_ind = normalize_data(data_reduce)\n",
    "    \n",
    "    print(data_reduce.shape)\n",
    "    data_reduce_list.append(data_reduce)\n",
    "    \n",
    "    rmv_feat_idx = np.unique(np.concatenate((irr_idx, corr_idx)))\n",
    "    rmv_feat_idx = np.insert(rmv_feat_idx, -1, std_0_feat_ind)\n",
    "    rmv_feat_idx = np.insert(rmv_feat_idx, -1, feat_ind)\n",
    "    rmv_feat_idx_list.append(np.unique(rmv_feat_idx))"
   ]
  },
  {
   "cell_type": "code",
   "execution_count": 13,
   "id": "073e9a45",
   "metadata": {},
   "outputs": [
    {
     "name": "stdout",
     "output_type": "stream",
     "text": [
      "Gradient Descent(1999/1999): loss=0.34366549953437787\n",
      "SGD: execution time=17.378 seconds, gamma = 0.02\n",
      "\n",
      "Gradient Descent(1999/1999): loss=0.40960420966812775\n",
      "SGD: execution time=14.255 seconds, gamma = 0.02\n",
      "\n",
      "Gradient Descent(1999/1999): loss=0.36687899418129446\n",
      "SGD: execution time=11.090 seconds, gamma = 0.02\n",
      "\n",
      "Gradient Descent(1999/1999): loss=0.43453092319216315\n",
      "SGD: execution time=7.056 seconds, gamma = 0.02\n",
      "\n"
     ]
    }
   ],
   "source": [
    "max_iters = 2000\n",
    "gamma = 2*10**(-2)\n",
    "batch_size = 1\n",
    "\n",
    "# Initialization\n",
    "#w_initial = np.random.rand(new_data.shape[1])\n",
    "w_list = []\n",
    "loss_list = []\n",
    "\n",
    "for data, y in zip(data_reduce_list, y_list):\n",
    "    \n",
    "    w_initial = np.zeros(data.shape[1])\n",
    "    \n",
    "    # Start SGD.\n",
    "    start_time = datetime.datetime.now()\n",
    "    sgd_losses, sgd_ws = stochastic_gradient_descent(\n",
    "    y, new_data, w_initial, batch_size, max_iters, gamma)\n",
    "    end_time = datetime.datetime.now()\n",
    "    \n",
    "    w_list.append(sgd_ws)\n",
    "    loss_list.append(sgd_losses)\n",
    "\n",
    "    \n",
    "    # Print result\n",
    "    exection_time = (end_time - start_time).total_seconds()\n",
    "    print(\"\\nSGD: execution time={t:.3f} seconds, gamma = {gamma}\\n\".format(t=exection_time, gamma=gamma))"
   ]
  },
  {
   "cell_type": "code",
   "execution_count": 14,
   "id": "1803ebcc",
   "metadata": {},
   "outputs": [
    {
     "data": {
      "text/plain": [
       "[<matplotlib.lines.Line2D at 0x7ffba74c2150>]"
      ]
     },
     "execution_count": 14,
     "metadata": {},
     "output_type": "execute_result"
    },
    {
     "data": {
      "image/png": "[encoded data removed]",
      "text/plain": [
       "<Figure size 432x288 with 4 Axes>"
      ]
     },
     "metadata": {
      "needs_background": "light"
     },
     "output_type": "display_data"
    }
   ],
   "source": [
    "fig, axs = plt.subplots(2, 2)\n",
    "axs[0, 0].plot(np.arange(max_iters), loss_list[0])\n",
    "axs[0, 1].plot(np.arange(max_iters), loss_list[1])\n",
    "axs[1, 0].plot(np.arange(max_iters), loss_list[2])\n",
    "axs[1, 1].plot(np.arange(max_iters), loss_list[3])"
   ]
  },
  {
   "cell_type": "code",
   "execution_count": null,
   "id": "be32eaa5",
   "metadata": {},
   "outputs": [],
   "source": []
  },
  {
   "cell_type": "code",
   "execution_count": null,
   "id": "35715baa",
   "metadata": {},
   "outputs": [],
   "source": []
  },
  {
   "cell_type": "code",
   "execution_count": 8,
   "id": "2b6132c3",
   "metadata": {},
   "outputs": [
    {
     "name": "stdout",
     "output_type": "stream",
     "text": [
      "(568238, 30) (568238,)\n"
     ]
    }
   ],
   "source": [
    "DATA_TEST_PATH = '/Users/AntoineDaeniker/Documents/EPFL/Master 1/ML_course/projects/project1/data/test.csv' # TODO: download train data and supply path here \n",
    "y_test, tX_test, tXt_test, ids_test = load_csv_data(DATA_TEST_PATH)\n",
    "print(tX_test.shape, y_test.shape)"
   ]
  },
  {
   "cell_type": "code",
   "execution_count": 15,
   "id": "cbc6e1cd",
   "metadata": {},
   "outputs": [],
   "source": [
    "data_list_test, y_list_test, feat_ind = subdivide_data(tX_test, y_test)"
   ]
  },
  {
   "cell_type": "code",
   "execution_count": 16,
   "id": "3d7c71bb",
   "metadata": {},
   "outputs": [
    {
     "name": "stdout",
     "output_type": "stream",
     "text": [
      "(227458, 16)\n",
      "(175338, 19)\n",
      "(114648, 23)\n",
      "(50794, 25)\n"
     ]
    }
   ],
   "source": [
    "new_data_test_list = []\n",
    "for rmv_feat_idx, data_test in zip(rmv_feat_idx_list, data_list_test):\n",
    "    #print(\"111111111111111\", data_test)\n",
    "    data_test_reduce = np.delete(data_test, rmv_feat_idx, axis=1)\n",
    "    #print(\"222222222222222\", data_test_reduce)\n",
    "    norm_data_test_reduce, _ = normalize_data(data_test_reduce)\n",
    "    #print(\"333333333333333\", norm_data_test_reduce)\n",
    "    print(norm_data_test_reduce.shape)\n",
    "    \n",
    "    new_data_test_list.append(norm_data_test_reduce)"
   ]
  },
  {
   "cell_type": "code",
   "execution_count": 17,
   "id": "17aaa5e0",
   "metadata": {},
   "outputs": [],
   "source": [
    "pred_test = 0\n",
    "for w, new_data_test, y in zip(w_list, new_data_test_list, y_list_test):\n",
    "    pred = predict_labels(w, new_data_test)\n",
    "    pred_test += len(pred[abs(pred - y) == 0]) * 100 / len(y_test)\n",
    "    #len(pred_test[abs(pred_test-y_test) == 0]) * 100 / len(y_test)"
   ]
  },
  {
   "cell_type": "code",
   "execution_count": 18,
   "id": "6a0549cc",
   "metadata": {},
   "outputs": [
    {
     "data": {
      "text/plain": [
       "45.841883154593674"
      ]
     },
     "execution_count": 18,
     "metadata": {},
     "output_type": "execute_result"
    }
   ],
   "source": [
    "pred_test"
   ]
  },
  {
   "cell_type": "code",
   "execution_count": null,
   "id": "0c4f005b",
   "metadata": {},
   "outputs": [],
   "source": []
  }
 ],
 "metadata": {
  "kernelspec": {
   "display_name": "Python 3 (ipykernel)",
   "language": "python",
   "name": "python3"
  },
  "language_info": {
   "codemirror_mode": {
    "name": "ipython",
    "version": 3
   },
   "file_extension": ".py",
   "mimetype": "text/x-python",
   "name": "python",
   "nbconvert_exporter": "python",
   "pygments_lexer": "ipython3",
   "version": "3.7.9"
  }
 },
 "nbformat": 4,
 "nbformat_minor": 5
}
