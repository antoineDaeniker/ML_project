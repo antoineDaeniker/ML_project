{
 "cells": [
  {
   "cell_type": "code",
   "execution_count": 170,
   "id": "697cfb25",
   "metadata": {},
   "outputs": [
    {
     "name": "stdout",
     "output_type": "stream",
     "text": [
      "The autoreload extension is already loaded. To reload it, use:\n",
      "  %reload_ext autoreload\n"
     ]
    }
   ],
   "source": [
    "# Useful starting lines\n",
    "%matplotlib inline\n",
    "import numpy as np\n",
    "import matplotlib.pyplot as plt\n",
    "from implementations import *\n",
    "import datetime\n",
    "%load_ext autoreload\n",
    "%autoreload 2"
   ]
  },
  {
   "cell_type": "code",
   "execution_count": 95,
   "id": "f2e32b06",
   "metadata": {},
   "outputs": [
    {
     "name": "stdout",
     "output_type": "stream",
     "text": [
      "(250000,) (250000, 30)\n"
     ]
    }
   ],
   "source": [
    "from proj1_helpers import *\n",
    "DATA_TRAIN_PATH = '/Users/AntoineDaeniker/Documents/EPFL/Master 1/ML_course/projects/project1/data/train.csv' # TODO: download train data and supply path here \n",
    "y, tX, tXt, ids = load_csv_data(DATA_TRAIN_PATH)\n",
    "print(y.shape, tX.shape)"
   ]
  },
  {
   "cell_type": "code",
   "execution_count": 157,
   "id": "0a28a03b",
   "metadata": {},
   "outputs": [],
   "source": [
    "nb_diff_values = []\n",
    "for feat in tX.T:\n",
    "    nb_diff_values.append(len(np.unique(feat)))"
   ]
  },
  {
   "cell_type": "code",
   "execution_count": 158,
   "id": "ecc6d8e7",
   "metadata": {},
   "outputs": [
    {
     "data": {
      "text/plain": [
       "[108338,\n",
       " 101637,\n",
       " 100558,\n",
       " 115563,\n",
       " 7087,\n",
       " 68366,\n",
       " 16593,\n",
       " 4692,\n",
       " 59042,\n",
       " 156098,\n",
       " 5931,\n",
       " 2829,\n",
       " 1002,\n",
       " 59639,\n",
       " 4971,\n",
       " 6285,\n",
       " 61929,\n",
       " 4987,\n",
       " 6285,\n",
       " 87836,\n",
       " 6285,\n",
       " 179740,\n",
       " 4,\n",
       " 86590,\n",
       " 8558,\n",
       " 6285,\n",
       " 42464,\n",
       " 8628,\n",
       " 6286,\n",
       " 103559]"
      ]
     },
     "execution_count": 158,
     "metadata": {},
     "output_type": "execute_result"
    }
   ],
   "source": [
    "nb_diff_values"
   ]
  },
  {
   "cell_type": "code",
   "execution_count": 159,
   "id": "35f99aa0",
   "metadata": {},
   "outputs": [],
   "source": [
    "feat_ind = np.argmin(nb_diff_values)"
   ]
  },
  {
   "cell_type": "code",
   "execution_count": 160,
   "id": "b798d59f",
   "metadata": {},
   "outputs": [],
   "source": [
    "feat_values = np.unique(tX[:, feat_ind])"
   ]
  },
  {
   "cell_type": "code",
   "execution_count": 161,
   "id": "c1f2c578",
   "metadata": {},
   "outputs": [],
   "source": [
    "sub_data = [0] * len(feat_values)\n",
    "for i, val in enumerate(feat_values):\n",
    "    sub_data[i] = np.delete(tX[tX[:, feat_ind] == val], feat_ind, axis=1)"
   ]
  },
  {
   "cell_type": "code",
   "execution_count": 162,
   "id": "3b6e1458",
   "metadata": {},
   "outputs": [],
   "source": [
    "sub_count_999 = []\n",
    "for data in sub_data:\n",
    "    count_999 = []\n",
    "    for feat in data.T:\n",
    "        count_999.append(len(feat[feat == -999]) / len(feat))\n",
    "    sub_count_999.append(count_999)"
   ]
  },
  {
   "cell_type": "code",
   "execution_count": 163,
   "id": "ed038a69",
   "metadata": {},
   "outputs": [],
   "source": [
    "#sub_count_999"
   ]
  },
  {
   "cell_type": "code",
   "execution_count": 164,
   "id": "9111a755",
   "metadata": {},
   "outputs": [],
   "source": [
    "#np.array(sub_count_999)"
   ]
  },
  {
   "cell_type": "code",
   "execution_count": 165,
   "id": "4a314ed6",
   "metadata": {},
   "outputs": [],
   "source": [
    "sub_count_999_ind = []\n",
    "for count in sub_count_999:\n",
    "    indices = np.argwhere(np.array(count) > 0.5)\n",
    "    #if len(indices) > 0:\n",
    "    sub_count_999_ind.append(np.argwhere(np.array(count) > 0.5))"
   ]
  },
  {
   "cell_type": "code",
   "execution_count": 166,
   "id": "2ecf2e25",
   "metadata": {},
   "outputs": [],
   "source": [
    "#sub_count_999_ind"
   ]
  },
  {
   "cell_type": "code",
   "execution_count": 167,
   "id": "2267a8f3",
   "metadata": {},
   "outputs": [],
   "source": [
    "sub_data_reduce = [0] * len(feat_values)\n",
    "for i, indices in enumerate(sub_count_999_ind):\n",
    "    sub_data_reduce[i] = np.delete(sub_data[i], np.array(indices), axis=1)"
   ]
  },
  {
   "cell_type": "code",
   "execution_count": 168,
   "id": "0fef8244",
   "metadata": {},
   "outputs": [],
   "source": [
    "#sub_data_reduce"
   ]
  },
  {
   "cell_type": "code",
   "execution_count": 169,
   "id": "f75f2cbc",
   "metadata": {},
   "outputs": [
    {
     "name": "stdout",
     "output_type": "stream",
     "text": [
      "(99913, 19)\n",
      "(77544, 22)\n",
      "(50379, 29)\n",
      "(22164, 29)\n"
     ]
    }
   ],
   "source": [
    "for data in sub_data_reduce:\n",
    "    print(data.shape)"
   ]
  },
  {
   "cell_type": "code",
   "execution_count": null,
   "id": "af3af8a6",
   "metadata": {},
   "outputs": [],
   "source": [
    "new_data = subdivide_data(tX)"
   ]
  },
  {
   "cell_type": "code",
   "execution_count": null,
   "id": "2f72cdb0",
   "metadata": {},
   "outputs": [],
   "source": []
  }
 ],
 "metadata": {
  "kernelspec": {
   "display_name": "Python 3 (ipykernel)",
   "language": "python",
   "name": "python3"
  },
  "language_info": {
   "codemirror_mode": {
    "name": "ipython",
    "version": 3
   },
   "file_extension": ".py",
   "mimetype": "text/x-python",
   "name": "python",
   "nbconvert_exporter": "python",
   "pygments_lexer": "ipython3",
   "version": "3.7.9"
  }
 },
 "nbformat": 4,
 "nbformat_minor": 5
}
