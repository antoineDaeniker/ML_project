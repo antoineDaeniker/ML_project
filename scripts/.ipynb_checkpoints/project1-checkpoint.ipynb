{
 "cells": [
  {
   "cell_type": "code",
   "execution_count": 82,
   "metadata": {},
   "outputs": [
    {
     "name": "stdout",
     "output_type": "stream",
     "text": [
      "The autoreload extension is already loaded. To reload it, use:\n",
      "  %reload_ext autoreload\n"
     ]
    }
   ],
   "source": [
    "# Useful starting lines\n",
    "%matplotlib inline\n",
    "import numpy as np\n",
    "import matplotlib.pyplot as plt\n",
    "from implementations import *\n",
    "import datetime\n",
    "%load_ext autoreload\n",
    "%autoreload 2"
   ]
  },
  {
   "cell_type": "markdown",
   "metadata": {},
   "source": [
    "## Load the training data into feature matrix, class labels, and event ids:"
   ]
  },
  {
   "cell_type": "code",
   "execution_count": 60,
   "metadata": {},
   "outputs": [
    {
     "name": "stdout",
     "output_type": "stream",
     "text": [
      "(250000,) (250000, 30)\n"
     ]
    }
   ],
   "source": [
    "from proj1_helpers import *\n",
    "DATA_TRAIN_PATH = '/Users/AntoineDaeniker/Documents/EPFL/Master 1/ML_course/projects/project1/data/train.csv' # TODO: download train data and supply path here \n",
    "y, tX, ids = load_csv_data(DATA_TRAIN_PATH)\n",
    "print(y.shape, tX.shape)"
   ]
  },
  {
   "cell_type": "markdown",
   "metadata": {},
   "source": [
    "## Do your thing crazy machine learning thing here :) ..."
   ]
  },
  {
   "cell_type": "code",
   "execution_count": null,
   "metadata": {},
   "outputs": [],
   "source": []
  },
  {
   "cell_type": "code",
   "execution_count": 84,
   "metadata": {},
   "outputs": [
    {
     "ename": "NameError",
     "evalue": "name 'poly_data_tr' is not defined",
     "output_type": "error",
     "traceback": [
      "\u001b[0;31m---------------------------------------------------------------------------\u001b[0m",
      "\u001b[0;31mNameError\u001b[0m                                 Traceback (most recent call last)",
      "\u001b[0;32m/var/folders/f3/3d8xjmhn3lb1y_bqwhqfy7t80000gn/T/ipykernel_41755/4158250483.py\u001b[0m in \u001b[0;36m<module>\u001b[0;34m\u001b[0m\n\u001b[1;32m      2\u001b[0m \u001b[0mdegree\u001b[0m \u001b[0;34m=\u001b[0m \u001b[0;36m0\u001b[0m\u001b[0;34m\u001b[0m\u001b[0;34m\u001b[0m\u001b[0m\n\u001b[1;32m      3\u001b[0m \u001b[0msplit_ratio\u001b[0m \u001b[0;34m=\u001b[0m \u001b[0;36m0.9\u001b[0m\u001b[0;34m\u001b[0m\u001b[0;34m\u001b[0m\u001b[0m\n\u001b[0;32m----> 4\u001b[0;31m \u001b[0mridge_regression_demo_2\u001b[0m\u001b[0;34m(\u001b[0m\u001b[0mtX\u001b[0m\u001b[0;34m,\u001b[0m \u001b[0my\u001b[0m\u001b[0;34m,\u001b[0m \u001b[0mdegree\u001b[0m\u001b[0;34m,\u001b[0m \u001b[0msplit_ratio\u001b[0m\u001b[0;34m,\u001b[0m \u001b[0mseed\u001b[0m\u001b[0;34m)\u001b[0m\u001b[0;34m\u001b[0m\u001b[0;34m\u001b[0m\u001b[0m\n\u001b[0m",
      "\u001b[0;32m~/Documents/EPFL/Master 1/ML_course/projects/project1/scripts/implementations.py\u001b[0m in \u001b[0;36mridge_regression_demo_2\u001b[0;34m(x, y, degree, ratio, seed)\u001b[0m\n\u001b[1;32m    145\u001b[0m     \u001b[0;32mfor\u001b[0m \u001b[0mind\u001b[0m\u001b[0;34m,\u001b[0m \u001b[0mlambda_\u001b[0m \u001b[0;32min\u001b[0m \u001b[0menumerate\u001b[0m\u001b[0;34m(\u001b[0m\u001b[0mlambdas\u001b[0m\u001b[0;34m)\u001b[0m\u001b[0;34m:\u001b[0m\u001b[0;34m\u001b[0m\u001b[0;34m\u001b[0m\u001b[0m\n\u001b[1;32m    146\u001b[0m \u001b[0;34m\u001b[0m\u001b[0m\n\u001b[0;32m--> 147\u001b[0;31m         \u001b[0mw\u001b[0m \u001b[0;34m=\u001b[0m \u001b[0mridge_regression\u001b[0m\u001b[0;34m(\u001b[0m\u001b[0my_tr\u001b[0m\u001b[0;34m,\u001b[0m \u001b[0mpoly_data_tr\u001b[0m\u001b[0;34m,\u001b[0m \u001b[0mlambda_\u001b[0m\u001b[0;34m)\u001b[0m\u001b[0;34m\u001b[0m\u001b[0;34m\u001b[0m\u001b[0m\n\u001b[0m\u001b[1;32m    148\u001b[0m \u001b[0;34m\u001b[0m\u001b[0m\n\u001b[1;32m    149\u001b[0m         \u001b[0mrmse_tr\u001b[0m\u001b[0;34m.\u001b[0m\u001b[0mappend\u001b[0m\u001b[0;34m(\u001b[0m\u001b[0mnp\u001b[0m\u001b[0;34m.\u001b[0m\u001b[0msqrt\u001b[0m\u001b[0;34m(\u001b[0m\u001b[0;36m2\u001b[0m \u001b[0;34m*\u001b[0m \u001b[0mcompute_loss\u001b[0m\u001b[0;34m(\u001b[0m\u001b[0my_tr\u001b[0m\u001b[0;34m,\u001b[0m \u001b[0mpoly_data_tr\u001b[0m\u001b[0;34m,\u001b[0m \u001b[0mw\u001b[0m\u001b[0;34m)\u001b[0m\u001b[0;34m)\u001b[0m\u001b[0;34m)\u001b[0m\u001b[0;34m\u001b[0m\u001b[0;34m\u001b[0m\u001b[0m\n",
      "\u001b[0;31mNameError\u001b[0m: name 'poly_data_tr' is not defined"
     ]
    }
   ],
   "source": [
    "seed = 56\n",
    "degree = 0\n",
    "split_ratio = 0.9\n",
    "ridge_regression_demo_2(tX, y, degree, split_ratio, seed)"
   ]
  },
  {
   "cell_type": "code",
   "execution_count": 72,
   "metadata": {},
   "outputs": [
    {
     "name": "stdout",
     "output_type": "stream",
     "text": [
      "(250000,) (250000, 30)\n",
      "Gradient Descent(0/9): loss=0.5, w=[-1.01865e-02 -5.46710e-03 -8.02200e-03 -8.09300e-04  9.99000e-02\n",
      "  9.99000e-02  9.99000e-02 -2.41500e-04 -8.09300e-04 -8.58820e-03\n",
      " -9.09000e-05  1.41300e-04  9.99000e-02 -4.49850e-03  1.90300e-04\n",
      " -1.63400e-04 -4.08970e-03  1.85300e-04  2.23400e-04 -2.53780e-03\n",
      "  2.08000e-05 -1.64584e-02  0.00000e+00  9.99000e-02  9.99000e-02\n",
      "  9.99000e-02  9.99000e-02  9.99000e-02  9.99000e-02  0.00000e+00]\n",
      "Gradient Descent(1/9): loss=244833.72727742183, w=[ 6.32777173e+00  4.91267317e+00  5.70224933e+00  1.44210082e+00\n",
      " -6.98063665e+01 -6.98063665e+01 -6.98063665e+01  1.31243860e-01\n",
      "  1.52334324e+00  1.00950716e+01  5.16215434e-02 -9.72656299e-02\n",
      " -6.98063665e+01  4.10037787e+00  1.59386252e-01  1.45946995e-01\n",
      "  3.02833078e+00  1.48604911e-01  1.52682922e-02  2.87733447e+00\n",
      " -1.22507601e-01  1.05146862e+01  6.99762427e-02  3.06626291e+00\n",
      "  1.35238003e-01 -3.21451700e-02 -6.98063665e+01 -6.98063665e+01\n",
      " -6.98063665e+01  2.96636291e+00]\n",
      "Gradient Descent(2/9): loss=119074811197.39256, w=[-3.37486894e+03 -2.81073416e+03 -2.64280261e+03 -3.81837624e+02\n",
      "  4.86819691e+04  4.86819691e+04  4.86819691e+04 -1.22163000e+02\n",
      " -3.81756381e+02 -2.55852325e+03 -7.39788523e+01  6.44658965e+01\n",
      "  4.86819691e+04 -1.01622207e+03  1.04563078e+01 -5.07571464e+00\n",
      " -1.54526755e+03  5.98317094e+01 -1.17106114e+02 -1.34445777e+03\n",
      "  5.80477791e+01 -5.40698366e+03  6.99762427e-02  4.87548417e+04\n",
      "  4.87519107e+04  4.87517433e+04  4.86819691e+04  4.86819691e+04\n",
      "  4.86819691e+04  2.96636291e+00]\n",
      "Gradient Descent(3/9): loss=1612186308850512.0, w=[-8.65695680e+05 -1.03101857e+05 -5.42393248e+05 -2.77823924e+06\n",
      "  3.33617648e+04 -4.86417481e+06  5.78638707e+04 -5.24971841e+03\n",
      " -2.32302848e+05 -4.71496366e+06 -6.58849514e+02 -5.54474901e+02\n",
      "  4.53430958e+04 -1.80115159e+06  2.10576965e+03 -1.36220278e+03\n",
      " -1.86903840e+05 -2.96673201e+03 -1.22438552e+03 -8.19606905e+05\n",
      "  4.15784203e+02 -5.34363508e+06 -1.13566419e+04 -1.51737547e+06\n",
      "  5.89672731e+04  6.39810940e+04 -1.11209891e+06  4.35771271e+04\n",
      "  3.16014745e+04 -2.72690823e+06]\n",
      "Gradient Descent(4/9): loss=1.9390042925857653e+19, w=[-1.10132926e+08 -4.99955118e+07 -6.11570818e+07 -3.89542868e+06\n",
      "  6.22147214e+08  6.17249677e+08  6.22171716e+08 -2.16925936e+06\n",
      " -1.34949229e+06 -5.19750661e+07 -1.38064313e+06  8.15230456e+05\n",
      "  6.22159195e+08 -1.64964896e+07 -1.29941370e+06 -2.47965892e+05\n",
      " -3.27516683e+07 -2.41474845e+05  1.63781832e+06 -1.99625296e+07\n",
      " -3.68244276e+05 -3.68983208e+07 -1.13566419e+04  6.20596476e+08\n",
      "  6.22172819e+08  6.22177833e+08  6.21001753e+08  6.22157429e+08\n",
      "  6.22145453e+08 -2.72690823e+06]\n",
      "Gradient Descent(5/9): loss=1.945509351249393e+25, w=[ 6.52090218e+10  3.76637618e+10  5.48202818e+10  1.78118939e+10\n",
      " -6.22534379e+11 -6.22539276e+11 -6.22534354e+11  1.47057604e+09\n",
      "  1.78144398e+10  4.65606321e+10  8.73159346e+08 -8.54387569e+08\n",
      " -6.22534367e+11  1.93905564e+10  1.93320042e+08 -1.47174571e+09\n",
      "  2.71734264e+10 -8.48582691e+08  1.40950997e+09  1.41342364e+10\n",
      " -2.02473063e+08  6.19930629e+10 -1.13566419e+04 -6.22535929e+11\n",
      " -6.22534353e+11 -6.22534348e+11 -6.22535524e+11 -6.22534368e+11\n",
      " -6.22534380e+11 -2.72690823e+06]\n",
      "Gradient Descent(6/9): loss=2.8960724093998633e+28, w=[ 2.46518188e+12  1.73721835e+12  2.00050681e+12  6.65114569e+11\n",
      " -5.25304203e+11  7.84912113e+12 -6.46143959e+11  5.15296765e+10\n",
      "  1.05706668e+11  4.31532635e+12  3.54813259e+10 -3.48608822e+10\n",
      " -6.16974918e+11  8.52176639e+11  1.13844170e+10 -2.82822447e+10\n",
      "  1.22447640e+12 -1.73103253e+10  1.63309726e+10  7.66657290e+11\n",
      "  6.80993188e+10  6.04761746e+12  4.81337390e+10  7.07568062e+11\n",
      " -6.28791741e+11 -6.73219187e+11  2.86037149e+11 -5.31537513e+11\n",
      " -5.84532784e+11  2.23867394e+12]\n",
      "Gradient Descent(7/9): loss=3.844853424824134e+30, w=[ 4.00464217e+13  3.63535881e+12  2.93747702e+13  1.25090118e+13\n",
      " -2.77551208e+14 -2.69176782e+14 -2.77672048e+14  7.54770609e+11\n",
      "  3.32263388e+11  4.54380054e+13  1.76905961e+11 -1.78503943e+11\n",
      " -2.77642879e+14  2.03815323e+13 -3.57983454e+11  7.70905597e+11\n",
      "  1.11899217e+13 -5.28380135e+11  1.26697649e+11  2.48981942e+12\n",
      "  5.03519135e+10  5.22363488e+13  3.25436946e+11  1.23357234e+13\n",
      " -6.91184962e+11 -9.05876578e+11 -2.76739866e+14 -2.77557441e+14\n",
      " -2.77610436e+14  1.38668293e+13]\n",
      "Gradient Descent(8/9): loss=1.1027796351805845e+33, w=[-4.65159546e+15  1.81241478e+14  4.53848604e+14  7.99497890e+14\n",
      " -2.72164508e+14  4.30544738e+14 -2.77150754e+14  1.27210404e+13\n",
      "  2.16420178e+14  1.77430569e+15  5.10336476e+12  1.35719866e+12\n",
      " -2.77642879e+14  1.73449284e+14  9.05331528e+11 -5.71473749e+12\n",
      "  1.71828171e+14 -8.43701370e+12  1.32896023e+12  7.09551717e+14\n",
      "  3.75576277e+12  2.18031157e+15  1.44144516e+13  6.11358360e+14\n",
      "  5.11818542e+12 -1.04394432e+13  5.89966568e+13 -2.77134771e+14\n",
      " -2.91610221e+14  1.42902382e+15]\n",
      "Gradient Descent(9/9): loss=3.0313666788038975e+35, w=[-1.31412147e+16 -2.97822804e+15 -4.32541647e+15 -7.05420969e+15\n",
      " -5.94441766e+14 -2.76690890e+16  8.37490596e+12 -1.29146359e+14\n",
      " -2.73886635e+14 -1.20815920e+16 -6.26379290e+13 -1.08664006e+14\n",
      " -3.50211713e+14 -3.06466242e+15 -9.52561602e+13  1.49778784e+14\n",
      " -2.64675469e+15 -1.12384861e+14  1.51108097e+13 -3.41168844e+15\n",
      "  9.25980802e+13 -1.42699998e+16 -1.41312660e+14 -4.81035891e+15\n",
      "  1.05172855e+14 -1.77923952e+14 -2.31848916e+15 -4.99357360e+14\n",
      " -4.31531031e+14 -6.37017927e+15]\n",
      "SGD: execution time=0.509 seconds\n"
     ]
    }
   ],
   "source": [
    "seed = 6\n",
    "ratio = 0.9\n",
    "tX_tr, y_tr, tX_te, y_te = split_data(tX, y, ratio, seed=seed)\n",
    "\n",
    "# from stochastic_gradient_descent import *\n",
    "print(y.shape, tX.shape)\n",
    "\n",
    "# Define the parameters of the algorithm.\n",
    "max_iters = 10\n",
    "gamma = 0.0001\n",
    "batch_size = 1\n",
    "\n",
    "# Initialization\n",
    "w_initial = np.zeros(30)\n",
    "\n",
    "# Start SGD.\n",
    "start_time = datetime.datetime.now()\n",
    "sgd_losses, sgd_ws = stochastic_gradient_descent(\n",
    "    y_tr, tX_tr, w_initial, batch_size, max_iters, gamma)\n",
    "end_time = datetime.datetime.now()\n",
    "\n",
    "# Print result\n",
    "exection_time = (end_time - start_time).total_seconds()\n",
    "print(\"SGD: execution time={t:.3f} seconds\".format(t=exection_time))"
   ]
  },
  {
   "cell_type": "code",
   "execution_count": 58,
   "metadata": {},
   "outputs": [
    {
     "name": "stdout",
     "output_type": "stream",
     "text": [
      "(25000,) (25000, 30) (30,)\n"
     ]
    },
    {
     "data": {
      "text/plain": [
       "1.3339949151711648e+33"
      ]
     },
     "execution_count": 58,
     "metadata": {},
     "output_type": "execute_result"
    }
   ],
   "source": [
    "print(y_te.shape, tX_te.shape, sgd_ws.shape)\n",
    "compute_loss(y_te, tX_te, sgd_ws)"
   ]
  },
  {
   "cell_type": "markdown",
   "metadata": {},
   "source": [
    "## Generate predictions and save ouput in csv format for submission:"
   ]
  },
  {
   "cell_type": "code",
   "execution_count": 10,
   "metadata": {},
   "outputs": [],
   "source": [
    "DATA_TEST_PATH = '' # TODO: download train data and supply path here \n",
    "_, tX_test, ids_test = load_csv_data(DATA_TEST_PATH)"
   ]
  },
  {
   "cell_type": "code",
   "execution_count": 31,
   "metadata": {},
   "outputs": [],
   "source": [
    "OUTPUT_PATH = '' # TODO: fill in desired name of output file for submission\n",
    "y_pred = predict_labels(weights, tX_test)\n",
    "create_csv_submission(ids_test, y_pred, OUTPUT_PATH)"
   ]
  },
  {
   "cell_type": "code",
   "execution_count": null,
   "metadata": {
    "collapsed": true
   },
   "outputs": [],
   "source": []
  }
 ],
 "metadata": {
  "anaconda-cloud": {},
  "kernelspec": {
   "display_name": "Python 3 (ipykernel)",
   "language": "python",
   "name": "python3"
  },
  "language_info": {
   "codemirror_mode": {
    "name": "ipython",
    "version": 3
   },
   "file_extension": ".py",
   "mimetype": "text/x-python",
   "name": "python",
   "nbconvert_exporter": "python",
   "pygments_lexer": "ipython3",
   "version": "3.7.9"
  }
 },
 "nbformat": 4,
 "nbformat_minor": 1
}
