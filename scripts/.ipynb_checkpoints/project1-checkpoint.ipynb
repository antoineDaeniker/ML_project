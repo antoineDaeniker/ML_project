{
 "cells": [
  {
   "cell_type": "code",
   "execution_count": 1,
   "metadata": {},
   "outputs": [],
   "source": [
    "# Useful starting lines\n",
    "%matplotlib inline\n",
    "import numpy as np\n",
    "import matplotlib.pyplot as plt\n",
    "from implementations import *\n",
    "import datetime\n",
    "%load_ext autoreload\n",
    "%autoreload 2"
   ]
  },
  {
   "cell_type": "markdown",
   "metadata": {},
   "source": [
    "## Load the training data into feature matrix, class labels, and event ids:"
   ]
  },
  {
   "cell_type": "code",
   "execution_count": 2,
   "metadata": {},
   "outputs": [
    {
     "name": "stdout",
     "output_type": "stream",
     "text": [
      "(250000,) (250000, 30)\n"
     ]
    }
   ],
   "source": [
    "from proj1_helpers import *\n",
    "DATA_TRAIN_PATH = '/Users/AntoineDaeniker/Documents/EPFL/Master 1/ML_course/projects/project1/data/train.csv' # TODO: download train data and supply path here \n",
    "y, tX, tXt, ids = load_csv_data(DATA_TRAIN_PATH)\n",
    "print(y.shape, tX.shape)"
   ]
  },
  {
   "cell_type": "markdown",
   "metadata": {},
   "source": [
    "## Do your thing crazy machine learning thing here :) ..."
   ]
  },
  {
   "cell_type": "code",
   "execution_count": 13,
   "metadata": {},
   "outputs": [],
   "source": [
    "###### PRE_PROCESSING #######\n",
    "temp = tX.copy()\n",
    "tX_norm = np.zeros(tX.shape)\n",
    "temp[temp == -999] = 0\n",
    "mean_features = np.mean(temp, axis=0)\n",
    "std_features = np.std(temp, axis=0)\n",
    "for i, f in enumerate(tX.T):\n",
    "    f[f == -999] = mean_features[i]\n",
    "    #tX_norm[:, i] = f\n",
    "    tX_norm[:, i] = (f - mean_features[i]) / std_features[i]\n",
    "\n",
    "tXt_norm = np.c_[np.ones(tX.shape[0]) / tX.shape[0], tX_norm]\n",
    "#tXt_norm = np.c_[np.ones(len(y)) / len(y), tX_norm]"
   ]
  },
  {
   "cell_type": "code",
   "execution_count": 29,
   "metadata": {},
   "outputs": [
    {
     "name": "stdout",
     "output_type": "stream",
     "text": [
      "Gradient Descent(199/199): loss=1.6075436123795963\n",
      "SGD: execution time=6.912 seconds, gamma = 0.002\n",
      "\n"
     ]
    }
   ],
   "source": [
    "max_iters = 200\n",
    "gamma = 2*10**(-3)\n",
    "batch_size = 1\n",
    "\n",
    "# Initialization\n",
    "w_initial = np.random.rand(tXt_norm.shape[1])\n",
    "\n",
    "# Start SGD.\n",
    "start_time = datetime.datetime.now()\n",
    "sgd_losses, sgd_ws = gradient_descent(\n",
    "    y, tXt_norm, w_initial, max_iters, gamma)\n",
    "end_time = datetime.datetime.now()\n",
    "\n",
    "# Print result\n",
    "exection_time = (end_time - start_time).total_seconds()\n",
    "print(\"\\nSGD: execution time={t:.3f} seconds, gamma = {gamma}\\n\".format(t=exection_time, gamma=gamma))"
   ]
  },
  {
   "cell_type": "code",
   "execution_count": 30,
   "metadata": {},
   "outputs": [
    {
     "data": {
      "text/plain": [
       "array([0.50774159, 0.50968855, 0.11056131, 0.40451847, 0.98316279,\n",
       "       0.64724038, 0.99950776, 0.86882884, 0.93940919, 0.55049408,\n",
       "       0.5877604 , 0.13841908, 0.3513632 , 0.17640961, 0.34084512,\n",
       "       0.7469103 , 0.71432554, 0.00796477, 0.66159654, 0.53871021,\n",
       "       0.49572319, 0.05794641, 0.17336888, 0.91787035, 0.87575921,\n",
       "       0.17951421, 0.67535057, 0.32086383, 0.82094338, 0.35042642,\n",
       "       0.88892407])"
      ]
     },
     "execution_count": 30,
     "metadata": {},
     "output_type": "execute_result"
    }
   ],
   "source": [
    "w_initial"
   ]
  },
  {
   "cell_type": "code",
   "execution_count": 31,
   "metadata": {},
   "outputs": [
    {
     "data": {
      "text/plain": [
       "[<matplotlib.lines.Line2D at 0x7fb223092610>]"
      ]
     },
     "execution_count": 31,
     "metadata": {},
     "output_type": "execute_result"
    },
    {
     "data": {
      "image/png": "[encoded data removed]",
      "text/plain": [
       "<Figure size 432x288 with 1 Axes>"
      ]
     },
     "metadata": {
      "needs_background": "light"
     },
     "output_type": "display_data"
    }
   ],
   "source": [
    "plt.plot(np.arange(max_iters), sgd_losses)"
   ]
  },
  {
   "cell_type": "markdown",
   "metadata": {},
   "source": [
    "## Generate predictions and save ouput in csv format for submission:"
   ]
  },
  {
   "cell_type": "code",
   "execution_count": 24,
   "metadata": {},
   "outputs": [],
   "source": [
    "DATA_TEST_PATH = '/Users/AntoineDaeniker/Documents/EPFL/Master 1/ML_course/projects/project1/data/test.csv' # TODO: download train data and supply path here \n",
    "y_test, tX_test, tXt_test, ids_test = load_csv_data(DATA_TEST_PATH)"
   ]
  },
  {
   "cell_type": "code",
   "execution_count": 32,
   "metadata": {},
   "outputs": [],
   "source": [
    "###### PRE_PROCESSING #######\n",
    "temp_test = tX_test.copy()\n",
    "tX_norm_test = np.zeros(tX_test.shape)\n",
    "temp_test[temp_test == -999] = 0\n",
    "mean_features_test = np.mean(temp_test, axis=0)\n",
    "std_features_test = np.std(temp_test, axis=0)\n",
    "for i, f in enumerate(tX_test.T):\n",
    "    f[f == -999] = mean_features_test[i]\n",
    "    tX_norm_test[:, i] = (f - mean_features_test[i]) / std_features_test[i]\n",
    "    \n",
    "tXt_norm_test = np.c_[np.ones(len(y_test)) / len(y_test), tX_norm_test]"
   ]
  },
  {
   "cell_type": "code",
   "execution_count": 33,
   "metadata": {},
   "outputs": [
    {
     "data": {
      "text/plain": [
       "array([ 0.50774109,  0.12375663,  0.10846068,  0.06284055,  0.43968791,\n",
       "        0.34502386,  0.65660988,  0.83031256,  0.91507082,  0.16895941,\n",
       "       -0.07714221,  0.00591713,  0.04866814, -0.06973399,  0.10398134,\n",
       "        0.38752721,  0.54489729, -0.28536051,  0.31154427,  0.45731475,\n",
       "        0.05700567,  0.07702042, -0.42958532,  0.32558765,  0.32540989,\n",
       "        0.10026285,  0.52475978, -0.23879816,  0.53269064,  0.26730822,\n",
       "        0.22420899])"
      ]
     },
     "execution_count": 33,
     "metadata": {},
     "output_type": "execute_result"
    }
   ],
   "source": [
    "sgd_ws"
   ]
  },
  {
   "cell_type": "code",
   "execution_count": 34,
   "metadata": {},
   "outputs": [
    {
     "data": {
      "text/plain": [
       "55.418"
      ]
     },
     "execution_count": 34,
     "metadata": {},
     "output_type": "execute_result"
    }
   ],
   "source": [
    "pred_train = predict_labels(sgd_ws, tXt_norm)\n",
    "len(pred_train[abs(pred_train-y) == 0]) * 100 / len(y)"
   ]
  },
  {
   "cell_type": "code",
   "execution_count": 35,
   "metadata": {},
   "outputs": [
    {
     "data": {
      "text/plain": [
       "46.8712053752125"
      ]
     },
     "execution_count": 35,
     "metadata": {},
     "output_type": "execute_result"
    }
   ],
   "source": [
    "pred_test = predict_labels(sgd_ws, tXt_norm_test)\n",
    "len(pred_test[abs(pred_test-y_test) == 0]) * 100 / len(y_test)"
   ]
  },
  {
   "cell_type": "code",
   "execution_count": 196,
   "metadata": {},
   "outputs": [
    {
     "ename": "NameError",
     "evalue": "name 'weights' is not defined",
     "output_type": "error",
     "traceback": [
      "\u001b[0;31m---------------------------------------------------------------------------\u001b[0m",
      "\u001b[0;31mNameError\u001b[0m                                 Traceback (most recent call last)",
      "\u001b[0;32m/var/folders/f3/3d8xjmhn3lb1y_bqwhqfy7t80000gn/T/ipykernel_54714/2223051364.py\u001b[0m in \u001b[0;36m<module>\u001b[0;34m\u001b[0m\n\u001b[1;32m      1\u001b[0m \u001b[0mOUTPUT_PATH\u001b[0m \u001b[0;34m=\u001b[0m \u001b[0;34m''\u001b[0m \u001b[0;31m# TODO: fill in desired name of output file for submission\u001b[0m\u001b[0;34m\u001b[0m\u001b[0;34m\u001b[0m\u001b[0m\n\u001b[0;32m----> 2\u001b[0;31m \u001b[0my_pred\u001b[0m \u001b[0;34m=\u001b[0m \u001b[0mpredict_labels\u001b[0m\u001b[0;34m(\u001b[0m\u001b[0mweights\u001b[0m\u001b[0;34m,\u001b[0m \u001b[0mtX_test\u001b[0m\u001b[0;34m)\u001b[0m\u001b[0;34m\u001b[0m\u001b[0;34m\u001b[0m\u001b[0m\n\u001b[0m\u001b[1;32m      3\u001b[0m \u001b[0mcreate_csv_submission\u001b[0m\u001b[0;34m(\u001b[0m\u001b[0mids_test\u001b[0m\u001b[0;34m,\u001b[0m \u001b[0my_pred\u001b[0m\u001b[0;34m,\u001b[0m \u001b[0mOUTPUT_PATH\u001b[0m\u001b[0;34m)\u001b[0m\u001b[0;34m\u001b[0m\u001b[0;34m\u001b[0m\u001b[0m\n",
      "\u001b[0;31mNameError\u001b[0m: name 'weights' is not defined"
     ]
    }
   ],
   "source": [
    "OUTPUT_PATH = '' # TODO: fill in desired name of output file for submission\n",
    "y_pred = predict_labels(weights, tX_test)\n",
    "create_csv_submission(ids_test, y_pred, OUTPUT_PATH)"
   ]
  },
  {
   "cell_type": "code",
   "execution_count": null,
   "metadata": {
    "collapsed": true
   },
   "outputs": [],
   "source": []
  }
 ],
 "metadata": {
  "anaconda-cloud": {},
  "kernelspec": {
   "display_name": "Python 3 (ipykernel)",
   "language": "python",
   "name": "python3"
  },
  "language_info": {
   "codemirror_mode": {
    "name": "ipython",
    "version": 3
   },
   "file_extension": ".py",
   "mimetype": "text/x-python",
   "name": "python",
   "nbconvert_exporter": "python",
   "pygments_lexer": "ipython3",
   "version": "3.7.9"
  }
 },
 "nbformat": 4,
 "nbformat_minor": 1
}
