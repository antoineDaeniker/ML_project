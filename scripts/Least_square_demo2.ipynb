{
 "cells": [
  {
   "cell_type": "code",
   "execution_count": 1,
   "id": "e53e1e40",
   "metadata": {},
   "outputs": [],
   "source": [
    "# Useful starting lines\n",
    "%matplotlib inline\n",
    "import numpy as np\n",
    "import matplotlib.pyplot as plt\n",
    "from implementations import *\n",
    "import datetime\n",
    "%load_ext autoreload\n",
    "%autoreload 2"
   ]
  },
  {
   "cell_type": "code",
   "execution_count": 2,
   "id": "e58a4f10",
   "metadata": {},
   "outputs": [
    {
     "name": "stdout",
     "output_type": "stream",
     "text": [
      "(250000,) (250000, 30)\n"
     ]
    }
   ],
   "source": [
    "from proj1_helpers import *\n",
    "DATA_TRAIN_PATH = '/Users/AntoineDaeniker/Documents/EPFL/Master 1/ML_course/projects/project1/data/train.csv' # TODO: download train data and supply path here \n",
    "y, tX, tXt, ids = load_csv_data(DATA_TRAIN_PATH)\n",
    "print(y.shape, tX.shape)"
   ]
  },
  {
   "cell_type": "code",
   "execution_count": 3,
   "id": "bd14346d",
   "metadata": {},
   "outputs": [
    {
     "name": "stderr",
     "output_type": "stream",
     "text": [
      "/Users/AntoineDaeniker/anaconda3/lib/python3.7/site-packages/numpy/lib/function_base.py:2559: RuntimeWarning: invalid value encountered in true_divide\n",
      "  c /= stddev[:, None]\n",
      "/Users/AntoineDaeniker/anaconda3/lib/python3.7/site-packages/numpy/lib/function_base.py:2560: RuntimeWarning: invalid value encountered in true_divide\n",
      "  c /= stddev[None, :]\n"
     ]
    },
    {
     "name": "stdout",
     "output_type": "stream",
     "text": [
      "train data 0 shape : (99913, 16)\n",
      "train data 1 shape : (77544, 19)\n",
      "train data 2 shape : (50379, 23)\n",
      "train data 3 shape : (22164, 25)\n"
     ]
    }
   ],
   "source": [
    "threshold_irr = 0.5\n",
    "threshold_corr = 0.8\n",
    "data_reduce_list, y_list, rmv_feat_idx_list = data_train_preprocessing(tX, y, threshold_irr, threshold_corr, show_plot=False)"
   ]
  },
  {
   "cell_type": "code",
   "execution_count": 4,
   "id": "3b414d1a",
   "metadata": {},
   "outputs": [
    {
     "name": "stdout",
     "output_type": "stream",
     "text": [
      "Processing 1th experiment, lambda_ = 1e-10, 0th subdata, degree=10, rmse=10.48704240174595\n",
      "Processing 1th experiment, lambda_ = 1e-10, 1th subdata, degree=10, rmse=0.7657514692736268\n",
      "Processing 1th experiment, lambda_ = 1e-10, 2th subdata, degree=10, rmse=0.7224854611562456\n",
      "Processing 1th experiment, lambda_ = 1e-10, 3th subdata, degree=10, rmse=0.7276554079510789\n"
     ]
    }
   ],
   "source": [
    "#degrees = np.arange(3, 12)\n",
    "degrees = np.arange(10, 11)\n",
    "weights = []\n",
    "#lambdas = [1e-10, 1e-7, 1e-5, 1e-3, 1e-1]\n",
    "lambdas = [1e-10]\n",
    "\n",
    "for lambda_ in lambdas:\n",
    "    weight_per_lambda = []\n",
    "    for ind, degree in enumerate(degrees):\n",
    "        weights_per_data = []\n",
    "        for data_ind, (data_train, y) in enumerate(zip(data_reduce_list, y_list)):\n",
    "\n",
    "            data_poly = build_poly(data_train, degree)\n",
    "\n",
    "            w, loss = ridge_regression(y, data_poly, lambda_)\n",
    "            weights_per_data.append(w)\n",
    "\n",
    "            rmse = np.sqrt(2 * loss)\n",
    "\n",
    "            print(\"Processing {i}th experiment, lambda_ = {lambda_}, {j}th subdata, degree={d}, rmse={loss}\".format(\n",
    "                  i=ind + 1, lambda_=lambda_, j=data_ind, d=degree, loss=rmse))\n",
    "\n",
    "        weight_per_lambda.append(weights_per_data)\n",
    "    weights.append(weight_per_lambda)"
   ]
  },
  {
   "cell_type": "code",
   "execution_count": null,
   "id": "08f2b1a6",
   "metadata": {},
   "outputs": [],
   "source": []
  },
  {
   "cell_type": "code",
   "execution_count": null,
   "id": "67253b8b",
   "metadata": {},
   "outputs": [],
   "source": []
  },
  {
   "cell_type": "code",
   "execution_count": null,
   "id": "b8974517",
   "metadata": {},
   "outputs": [],
   "source": []
  },
  {
   "cell_type": "code",
   "execution_count": 5,
   "id": "6c812031",
   "metadata": {},
   "outputs": [
    {
     "name": "stdout",
     "output_type": "stream",
     "text": [
      "(568238,) (568238, 30)\n"
     ]
    }
   ],
   "source": [
    "DATA_TEST_PATH = '/Users/AntoineDaeniker/Documents/EPFL/Master 1/ML_course/projects/project1/data/test.csv' # TODO: download train data and supply path here \n",
    "y_test, tX_test, tXt_test, ids_test = load_csv_data(DATA_TEST_PATH)\n",
    "print(y_test.shape, tX_test.shape)"
   ]
  },
  {
   "cell_type": "code",
   "execution_count": 6,
   "id": "b62bdb40",
   "metadata": {},
   "outputs": [
    {
     "name": "stdout",
     "output_type": "stream",
     "text": [
      "(227458, 16)\n",
      "(175338, 19)\n",
      "(114648, 23)\n",
      "(50794, 25)\n"
     ]
    }
   ],
   "source": [
    "data_test_list, y_test_list = data_test_preprocessing(tX_test, y_test, rmv_feat_idx_list, threshold_irr, threshold_corr, show_plot=False)"
   ]
  },
  {
   "cell_type": "code",
   "execution_count": null,
   "id": "42d29aad",
   "metadata": {},
   "outputs": [
    {
     "name": "stdout",
     "output_type": "stream",
     "text": [
      "lambda =  1e-10\n",
      "[  8.40742999  63.72928743  -2.3467899  ... -49.73811286  32.66137438\n",
      " -13.80284927]\n",
      "acc data :  52.01399818867659\n",
      "[1. 1. 1. ... 1. 1. 1.]\n"
     ]
    }
   ],
   "source": [
    "for lambda_, weight_per_lambda in zip(lambdas, weights):\n",
    "    print(\"lambda = \", lambda_)\n",
    "    for ind, (degree, weight_per_data) in enumerate(zip(degrees, weight_per_lambda)):\n",
    "        acc = 0\n",
    "        for data_test, w, y_t in zip(data_test_list, weight_per_data, y_test_list):\n",
    "\n",
    "            data_poly_test = build_poly(data_test, degree)\n",
    "            acc_data = accuracy(w, data_poly_test, y_t, y_t.shape[0])\n",
    "            print(\"acc data : \", acc_data)\n",
    "            print(y_t)\n",
    "            acc += acc_data\n",
    "\n",
    "            #print(\"accuracy on test = \", accuracy, \", degree =\", degree)\n",
    "        print(\"accuracy on test = \", acc, \", degree =\", degree)"
   ]
  },
  {
   "cell_type": "code",
   "execution_count": null,
   "id": "83e6a936",
   "metadata": {},
   "outputs": [],
   "source": []
  }
 ],
 "metadata": {
  "kernelspec": {
   "display_name": "Python 3 (ipykernel)",
   "language": "python",
   "name": "python3"
  },
  "language_info": {
   "codemirror_mode": {
    "name": "ipython",
    "version": 3
   },
   "file_extension": ".py",
   "mimetype": "text/x-python",
   "name": "python",
   "nbconvert_exporter": "python",
   "pygments_lexer": "ipython3",
   "version": "3.7.9"
  }
 },
 "nbformat": 4,
 "nbformat_minor": 5
}
