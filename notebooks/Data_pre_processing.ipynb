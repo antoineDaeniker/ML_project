{
 "cells": [
  {
   "cell_type": "code",
   "execution_count": 48,
   "id": "46a6a12f",
   "metadata": {},
   "outputs": [
    {
     "name": "stdout",
     "output_type": "stream",
     "text": [
      "The autoreload extension is already loaded. To reload it, use:\n",
      "  %reload_ext autoreload\n"
     ]
    }
   ],
   "source": [
    "# Useful starting lines\n",
    "%matplotlib inline\n",
    "import numpy as np\n",
    "import matplotlib.pyplot as plt\n",
    "from implementations import *\n",
    "import datetime\n",
    "%load_ext autoreload\n",
    "%autoreload 2"
   ]
  },
  {
   "cell_type": "code",
   "execution_count": 49,
   "id": "67fb4220",
   "metadata": {},
   "outputs": [
    {
     "name": "stdout",
     "output_type": "stream",
     "text": [
      "(250000,) (250000, 30)\n"
     ]
    }
   ],
   "source": [
    "from proj1_helpers import *\n",
    "DATA_TRAIN_PATH = '/Users/AntoineDaeniker/Documents/EPFL/Master 1/ML_course/projects/project1/data/train.csv' # TODO: download train data and supply path here \n",
    "y, tX, tXt, ids = load_csv_data(DATA_TRAIN_PATH)\n",
    "print(y.shape, tX.shape)"
   ]
  },
  {
   "cell_type": "code",
   "execution_count": 50,
   "id": "8acf8cf0",
   "metadata": {},
   "outputs": [
    {
     "name": "stderr",
     "output_type": "stream",
     "text": [
      "/Users/AntoineDaeniker/anaconda3/lib/python3.7/site-packages/numpy/lib/function_base.py:2559: RuntimeWarning: invalid value encountered in true_divide\n",
      "  c /= stddev[:, None]\n",
      "/Users/AntoineDaeniker/anaconda3/lib/python3.7/site-packages/numpy/lib/function_base.py:2560: RuntimeWarning: invalid value encountered in true_divide\n",
      "  c /= stddev[None, :]\n"
     ]
    },
    {
     "name": "stdout",
     "output_type": "stream",
     "text": [
      "train data 0 shape : (99913, 16)\n",
      "train data 1 shape : (77544, 19)\n",
      "train data 2 shape : (50379, 23)\n",
      "train data 3 shape : (22164, 25)\n"
     ]
    }
   ],
   "source": [
    "threshold_irr = 0.5\n",
    "threshold_corr = 0.8\n",
    "data_reduce_list, y_list, rmv_feat_idx_list = data_train_preprocessing(tX, y, threshold_irr, threshold_corr, show_plot=False)"
   ]
  },
  {
   "cell_type": "code",
   "execution_count": 51,
   "id": "6d4d6242",
   "metadata": {},
   "outputs": [
    {
     "name": "stdout",
     "output_type": "stream",
     "text": [
      "Gradient Descent(499/499): loss=0.5000004028213397, normgrad=4.18700294323736637\n",
      "SGD: execution time=7.148 seconds, gamma = 2e-09\n",
      "\n",
      "Gradient Descent(499/499): loss=0.5000009852450402, normgrad=4.20627591429000816\n",
      "SGD: execution time=5.949 seconds, gamma = 2e-09\n",
      "\n",
      "Gradient Descent(499/499): loss=0.49999874909067676, normgrad=4.3345179961015796\n",
      "SGD: execution time=4.360 seconds, gamma = 2e-09\n",
      "\n",
      "Gradient Descent(499/499): loss=0.49999946118988864, normgrad=4.7076822620300005\n",
      "SGD: execution time=2.093 seconds, gamma = 2e-09\n",
      "\n"
     ]
    }
   ],
   "source": [
    "max_iters = 500\n",
    "gamma = 2*10**(-9)\n",
    "batch_size = 1\n",
    "\n",
    "# Initialization\n",
    "#w_initial = np.random.rand(new_data.shape[1])\n",
    "w_list = []\n",
    "loss_list = []\n",
    "\n",
    "for data, y in zip(data_reduce_list, y_list):\n",
    "    \n",
    "    w_initial = np.zeros(data.shape[1])\n",
    "    \n",
    "    # Start SGD.\n",
    "    start_time = datetime.datetime.now()\n",
    "    sgd_losses, sgd_ws = stochastic_gradient_descent(\n",
    "    y, data, w_initial, batch_size, max_iters, gamma)\n",
    "    end_time = datetime.datetime.now()\n",
    "    \n",
    "    w_list.append(sgd_ws)\n",
    "    loss_list.append(sgd_losses)\n",
    "\n",
    "    \n",
    "    # Print result\n",
    "    exection_time = (end_time - start_time).total_seconds()\n",
    "    print(\"\\nSGD: execution time={t:.3f} seconds, gamma = {gamma}\\n\".format(t=exection_time, gamma=gamma))"
   ]
  },
  {
   "cell_type": "code",
   "execution_count": 52,
   "id": "62f3cc52",
   "metadata": {},
   "outputs": [
    {
     "data": {
      "text/plain": [
       "[<matplotlib.lines.Line2D at 0x7ffbc798c3d0>]"
      ]
     },
     "execution_count": 52,
     "metadata": {},
     "output_type": "execute_result"
    },
    {
     "data": {
      "image/png": "[encoded data removed]",
      "text/plain": [
       "<Figure size 432x288 with 4 Axes>"
      ]
     },
     "metadata": {
      "needs_background": "light"
     },
     "output_type": "display_data"
    }
   ],
   "source": [
    "fig, axs = plt.subplots(2, 2)\n",
    "axs[0, 0].plot(np.arange(max_iters), loss_list[0])\n",
    "axs[0, 1].plot(np.arange(max_iters), loss_list[1])\n",
    "axs[1, 0].plot(np.arange(max_iters), loss_list[2])\n",
    "axs[1, 1].plot(np.arange(max_iters), loss_list[3])"
   ]
  },
  {
   "cell_type": "code",
   "execution_count": null,
   "id": "aa8beb7e",
   "metadata": {},
   "outputs": [],
   "source": []
  },
  {
   "cell_type": "code",
   "execution_count": null,
   "id": "c0a57767",
   "metadata": {},
   "outputs": [],
   "source": []
  },
  {
   "cell_type": "code",
   "execution_count": 53,
   "id": "3e9fef7f",
   "metadata": {},
   "outputs": [
    {
     "name": "stdout",
     "output_type": "stream",
     "text": [
      "(568238, 30) (568238,)\n"
     ]
    }
   ],
   "source": [
    "DATA_TEST_PATH = '/Users/AntoineDaeniker/Documents/EPFL/Master 1/ML_course/projects/project1/data/test.csv' # TODO: download train data and supply path here \n",
    "y_test, tX_test, tXt_test, ids_test = load_csv_data(DATA_TEST_PATH)\n",
    "print(tX_test.shape, y_test.shape)"
   ]
  },
  {
   "cell_type": "code",
   "execution_count": 54,
   "id": "11faae9e",
   "metadata": {},
   "outputs": [],
   "source": [
    "data_list_test, y_list_test, feat_ind = subdivide_data(tX_test, y_test)"
   ]
  },
  {
   "cell_type": "code",
   "execution_count": 55,
   "id": "2596bbdb",
   "metadata": {},
   "outputs": [
    {
     "name": "stdout",
     "output_type": "stream",
     "text": [
      "(227458, 16)\n",
      "(175338, 19)\n",
      "(114648, 23)\n",
      "(50794, 25)\n"
     ]
    }
   ],
   "source": [
    "new_data_test_list = []\n",
    "for rmv_feat_idx, data_test in zip(rmv_feat_idx_list, data_list_test):\n",
    "    #print(\"111111111111111\", data_test)\n",
    "    data_test_reduce = np.delete(data_test, rmv_feat_idx, axis=1)\n",
    "    #print(\"222222222222222\", data_test_reduce)\n",
    "    norm_data_test_reduce, _ = normalize_data(data_test_reduce)\n",
    "    #print(\"333333333333333\", norm_data_test_reduce)\n",
    "    print(norm_data_test_reduce.shape)\n",
    "    \n",
    "    new_data_test_list.append(norm_data_test_reduce)"
   ]
  },
  {
   "cell_type": "code",
   "execution_count": 56,
   "id": "9a29bbe4",
   "metadata": {},
   "outputs": [],
   "source": [
    "pred_test = 0\n",
    "for w, new_data_test, y in zip(w_list, new_data_test_list, y_list_test):\n",
    "    pred = predict_labels(w, new_data_test)\n",
    "    pred_test += len(pred[abs(pred - y) == 0]) * 100 / len(y_test)\n",
    "    #len(pred_test[abs(pred_test-y_test) == 0]) * 100 / len(y_test)"
   ]
  },
  {
   "cell_type": "code",
   "execution_count": 57,
   "id": "9ae6b9a2",
   "metadata": {},
   "outputs": [
    {
     "data": {
      "text/plain": [
       "49.972018766784345"
      ]
     },
     "execution_count": 57,
     "metadata": {},
     "output_type": "execute_result"
    }
   ],
   "source": [
    "pred_test"
   ]
  },
  {
   "cell_type": "code",
   "execution_count": null,
   "id": "8f58d079",
   "metadata": {},
   "outputs": [],
   "source": []
  }
 ],
 "metadata": {
  "kernelspec": {
   "display_name": "Python 3 (ipykernel)",
   "language": "python",
   "name": "python3"
  },
  "language_info": {
   "codemirror_mode": {
    "name": "ipython",
    "version": 3
   },
   "file_extension": ".py",
   "mimetype": "text/x-python",
   "name": "python",
   "nbconvert_exporter": "python",
   "pygments_lexer": "ipython3",
   "version": "3.7.9"
  }
 },
 "nbformat": 4,
 "nbformat_minor": 5
}
