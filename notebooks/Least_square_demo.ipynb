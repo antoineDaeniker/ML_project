{
 "cells": [
  {
   "cell_type": "code",
   "execution_count": 2,
   "id": "63101d9e",
   "metadata": {},
   "outputs": [],
   "source": [
    "# Useful starting lines\n",
    "%matplotlib inline\n",
    "import numpy as np\n",
    "import matplotlib.pyplot as plt\n",
    "from implementations import *\n",
    "import datetime\n",
    "%load_ext autoreload\n",
    "%autoreload 2"
   ]
  },
  {
   "cell_type": "code",
   "execution_count": 3,
   "id": "ffb0b86b",
   "metadata": {},
   "outputs": [
    {
     "name": "stdout",
     "output_type": "stream",
     "text": [
      "(250000,) (250000, 30)\n"
     ]
    }
   ],
   "source": [
    "from proj1_helpers import *\n",
    "DATA_TRAIN_PATH = '/Users/AntoineDaeniker/Documents/EPFL/Master 1/ML_course/projects/project1/data/train.csv' # TODO: download train data and supply path here \n",
    "y, tX, tXt, ids = load_csv_data(DATA_TRAIN_PATH)\n",
    "print(y.shape, tX.shape)"
   ]
  },
  {
   "cell_type": "code",
   "execution_count": 39,
   "id": "6e4a7d7f",
   "metadata": {},
   "outputs": [],
   "source": [
    "data_process_train = data_process(tX)"
   ]
  },
  {
   "cell_type": "code",
   "execution_count": 41,
   "id": "31d863e0",
   "metadata": {},
   "outputs": [
    {
     "data": {
      "text/plain": [
       "(250000, 30)"
      ]
     },
     "execution_count": 41,
     "metadata": {},
     "output_type": "execute_result"
    }
   ],
   "source": [
    "data_process_train.shape"
   ]
  },
  {
   "cell_type": "code",
   "execution_count": 51,
   "id": "b94012af",
   "metadata": {},
   "outputs": [
    {
     "name": "stdout",
     "output_type": "stream",
     "text": [
      "Processing 1th experiment, degree=3, rmse=0.7797239491205784\n",
      "Processing 2th experiment, degree=4, rmse=0.7721313836389812\n",
      "Processing 3th experiment, degree=5, rmse=0.76845773049525\n",
      "Processing 4th experiment, degree=6, rmse=0.765129247041656\n",
      "Processing 5th experiment, degree=7, rmse=0.7575338879494682\n",
      "Processing 6th experiment, degree=8, rmse=0.7475985091473738\n",
      "Processing 7th experiment, degree=9, rmse=0.7412379778489182\n",
      "Processing 8th experiment, degree=10, rmse=0.7394550997048652\n",
      "Processing 9th experiment, degree=11, rmse=0.7378175505129183\n"
     ]
    }
   ],
   "source": [
    "# define parameters\n",
    "degrees = np.arange(3, 12)\n",
    "weights = []\n",
    "\n",
    "for ind, degree in enumerate(degrees):\n",
    "\n",
    "    data_poly = build_poly(data_process_train, degree)\n",
    "\n",
    "    w, loss = least_squares(y, data_poly)\n",
    "    weights.append(w)\n",
    "    rmse = np.sqrt(2 * loss)\n",
    "\n",
    "    print(\"Processing {i}th experiment, degree={d}, rmse={loss}\".format(\n",
    "          i=ind + 1, d=degree, loss=rmse))"
   ]
  },
  {
   "cell_type": "code",
   "execution_count": 21,
   "id": "8700e119",
   "metadata": {},
   "outputs": [],
   "source": [
    "DATA_TEST_PATH = '/Users/AntoineDaeniker/Documents/EPFL/Master 1/ML_course/projects/project1/data/test.csv' # TODO: download train data and supply path here \n",
    "y_test, tX_test, tXt_test, ids_test = load_csv_data(DATA_TEST_PATH)"
   ]
  },
  {
   "cell_type": "code",
   "execution_count": 52,
   "id": "a93bd167",
   "metadata": {},
   "outputs": [],
   "source": [
    "data_process_test = data_process(tX_test)"
   ]
  },
  {
   "cell_type": "code",
   "execution_count": 54,
   "id": "e774b34d",
   "metadata": {},
   "outputs": [
    {
     "name": "stdout",
     "output_type": "stream",
     "text": [
      "build_poly DONE\n",
      "accuracy on test =  29.884133056923332 degree = 3\n",
      "build_poly DONE\n",
      "accuracy on test =  25.464506069639835 degree = 4\n",
      "build_poly DONE\n",
      "accuracy on test =  20.179748626455815 degree = 5\n",
      "build_poly DONE\n",
      "accuracy on test =  20.176404957077843 degree = 6\n",
      "build_poly DONE\n",
      "accuracy on test =  20.176052991880162 degree = 7\n",
      "build_poly DONE\n",
      "accuracy on test =  39.79512105842974 degree = 8\n",
      "build_poly DONE\n",
      "accuracy on test =  8.939212090708471 degree = 9\n",
      "build_poly DONE\n",
      "accuracy on test =  20.176228974479002 degree = 10\n",
      "build_poly DONE\n",
      "accuracy on test =  20.176052991880162 degree = 11\n"
     ]
    }
   ],
   "source": [
    "# define parameters\n",
    "\n",
    "for ind, degree in enumerate(degrees):\n",
    "\n",
    "    data_poly_test = build_poly(data_process_test, degree)\n",
    "    print(\"build_poly DONE\")\n",
    "    pred_test = predict_labels(weights[ind], data_poly_test)\n",
    "    accuracy = len(pred_test[abs(pred_test-y_test) == 0]) * 100 / len(y_test)\n",
    "\n",
    "    print(\"accuracy on test = \", accuracy, \", degree =\", degree)"
   ]
  },
  {
   "cell_type": "code",
   "execution_count": null,
   "id": "63cd0c6a",
   "metadata": {},
   "outputs": [],
   "source": []
  }
 ],
 "metadata": {
  "kernelspec": {
   "display_name": "Python 3 (ipykernel)",
   "language": "python",
   "name": "python3"
  },
  "language_info": {
   "codemirror_mode": {
    "name": "ipython",
    "version": 3
   },
   "file_extension": ".py",
   "mimetype": "text/x-python",
   "name": "python",
   "nbconvert_exporter": "python",
   "pygments_lexer": "ipython3",
   "version": "3.7.9"
  }
 },
 "nbformat": 4,
 "nbformat_minor": 5
}
