{
 "cells": [
  {
   "cell_type": "code",
   "execution_count": 1,
   "id": "czech-intro",
   "metadata": {},
   "outputs": [],
   "source": [
    "# Useful starting lines\n",
    "%matplotlib inline\n",
    "import numpy as np\n",
    "import matplotlib.pyplot as plt\n",
    "import sys\n",
    "# insert at 1, 0 is the script path (or '' in REPL)\n",
    "sys.path.insert(1, '../')\n",
    "from utils.implementation_utils import *\n",
    "from utils.preprocessing_utils import *\n",
    "import datetime\n",
    "%load_ext autoreload\n",
    "%autoreload 2"
   ]
  },
  {
   "cell_type": "code",
   "execution_count": 2,
   "id": "sized-novel",
   "metadata": {},
   "outputs": [
    {
     "name": "stdout",
     "output_type": "stream",
     "text": [
      "(250000,) (250000, 30)\n"
     ]
    }
   ],
   "source": [
    "from utils.io_utils import *\n",
    "DATA_TRAIN_PATH = '../data/train.csv' # TODO: download train data and supply path here \n",
    "y, tX, tXt, ids = load_csv_data(DATA_TRAIN_PATH)\n",
    "print(y.shape, tX.shape)"
   ]
  },
  {
   "cell_type": "code",
   "execution_count": 14,
   "id": "marked-designation",
   "metadata": {},
   "outputs": [
    {
     "name": "stdout",
     "output_type": "stream",
     "text": [
      "[ 4  5  6  8 12 22 23 24 25 26 27 28 29]\n",
      "[ 3  4  5  6  9 12 22 23 26 27 28]\n",
      "[22 23 29]\n",
      "[21 22 29]\n"
     ]
    }
   ],
   "source": [
    "new_data, _, rmv_ind = preprocess_train_data_split(tX, y)"
   ]
  },
  {
   "cell_type": "code",
   "execution_count": 7,
   "id": "f0ceda3d",
   "metadata": {},
   "outputs": [],
   "source": [
    "data_list, y_list, feat_ind = subdivide_data(tX, y)"
   ]
  },
  {
   "cell_type": "code",
   "execution_count": 12,
   "id": "comparable-compression",
   "metadata": {},
   "outputs": [
    {
     "name": "stdout",
     "output_type": "stream",
     "text": [
      "[[1.0 -0.42489780917530356 0.1339055770956135 0.09779313139655348 -- --\n",
      "  -- 0.16838154243918285 -0.058291073694878744 0.09781133167522213\n",
      "  -0.028208029191461436 0.33953092700960935 -- 0.08816541743689257\n",
      "  -0.01021549067817705 -0.005557175570542477 0.050531186219435954\n",
      "  -0.0021500752310727516 0.0019444151078546487 -0.3366136753699433\n",
      "  0.006634123963249338 0.11407553295761799 -- 0.07630377209068637\n",
      "  0.0002683954555025334 -0.0013735963557679073 -- -- --\n",
      "  0.07630377874407156]\n",
      " [-0.42489780917530356 1.0 0.2200990140724545 -0.17314088646966785 -- --\n",
      "  -- 0.032912735579102195 0.06909649329426347 -0.010816309726669502\n",
      "  0.33466198596277635 -0.4262949050067979 -- -0.0776563594006213\n",
      "  0.0059303897368989085 0.005140438767403693 0.3660764777663905\n",
      "  0.009018657852938042 -0.001399728439441013 0.2655241363507413\n",
      "  -0.015876842998834243 -0.051715271199512844 -- -0.1524598650656572\n",
      "  -0.0007455777040061264 0.007109557582876073 -- -- --\n",
      "  -0.15245986638917672]\n",
      " [0.1339055770956135 0.2200990140724545 1.0 -0.04516366743881497 -- -- --\n",
      "  0.6002081348972675 0.004278659386463345 0.207172678418538\n",
      "  0.11521413834821082 -0.12173092490325936 -- 0.3060637624466627\n",
      "  -0.006715742261748349 -0.003381760167650875 0.43271003276155906\n",
      "  0.0007481745716387259 -0.003556009526499563 -0.05075547861651337\n",
      "  2.7829290135315184e-05 0.1192556300325276 -- -0.04777477591031716\n",
      "  0.0004080219089896866 0.008846706232739983 -- -- --\n",
      "  -0.047774772245834776]\n",
      " [0.09779313139655348 -0.17314088646966785 -0.04516366743881497 1.0 -- --\n",
      "  -- -0.46437930628268187 0.04686792497006497 0.8632110677076689\n",
      "  0.06726179888320709 0.3419203793735247 -- 0.3588257911150037\n",
      "  -0.0041225444803621395 0.003291342406703403 0.3013569747655221\n",
      "  -0.007668415318145023 -0.0025888407956629433 0.613056438525145\n",
      "  0.0048952171875693935 0.7125818159025537 -- 0.9367590332144755\n",
      "  0.0028812303359754005 -0.0029821559605221776 -- -- --\n",
      "  0.9367590311733173]\n",
      " [-- -- -- -- -- -- -- -- -- -- -- -- -- -- -- -- -- -- -- -- -- -- -- --\n",
      "  -- -- -- -- -- --]\n",
      " [-- -- -- -- -- -- -- -- -- -- -- -- -- -- -- -- -- -- -- -- -- -- -- --\n",
      "  -- -- -- -- -- --]\n",
      " [-- -- -- -- -- -- -- -- -- -- -- -- -- -- -- -- -- -- -- -- -- -- -- --\n",
      "  -- -- -- -- -- --]\n",
      " [0.16838154243918285 0.032912735579102195 0.6002081348972675\n",
      "  -0.46437930628268187 -- -- -- 1.0 -0.035871728039764725\n",
      "  -0.3610460003276792 0.06672150184283498 -0.04696549159464498 --\n",
      "  -0.15175600747849194 -0.005580512024001127 -0.010370307626537187\n",
      "  -0.015682651795626657 0.003171494182269276 -0.0038351674977864284\n",
      "  -0.2323549410445847 -0.000558076640967651 -0.3013220428294547 --\n",
      "  -0.4431759482776294 -0.00068978946670956 0.011137270779130144 -- -- --\n",
      "  -0.4431759501325024]\n",
      " [-0.058291073694878744 0.06909649329426347 0.004278659386463345\n",
      "  0.04686792497006497 -- -- -- -0.035871728039764725 1.0\n",
      "  0.06827733512370182 0.003942411452604443 -0.050334897790466085 --\n",
      "  0.03821946602875578 0.0034720780276294083 -0.0025026405607861367\n",
      "  0.03383827359785013 0.0011288861678433832 -0.00025697228667536314\n",
      "  0.12749765688533551 -0.0022794558115971203 0.2693787752031753 --\n",
      "  0.06479252874730695 0.001060180613340539 0.00236323749706423 -- -- --\n",
      "  0.06479253299090142]\n",
      " [0.09781133167522213 -0.010816309726669502 0.207172678418538\n",
      "  0.8632110677076689 -- -- -- -0.3610460003276792 0.06827733512370182 1.0\n",
      "  0.1122798685344168 0.17737751808166904 -- 0.5944050479388684\n",
      "  -0.005755504723270138 0.002236053183381588 0.5541853859414353\n",
      "  -0.006510593848771181 -0.0015660714778699166 0.4888290328095949\n",
      "  0.0028014715778029364 0.7579901282084879 -- 0.9051662981927856\n",
      "  0.001059236475700161 -0.0005547484217243454 -- -- -- 0.9051663003822757]\n",
      " [-0.028208029191461436 0.33466198596277635 0.11521413834821082\n",
      "  0.06726179888320709 -- -- -- 0.06672150184283498 0.003942411452604443\n",
      "  0.1122798685344168 1.0 -0.10332142071422003 -- -0.5041582479654803\n",
      "  0.0009537750618056177 -0.00011129041925919061 0.7098679986369051\n",
      "  0.00649823727903059 -0.00513364178477193 0.008686853091679379\n",
      "  -0.0015464127458998025 0.016317958179008902 -- 0.06119894058253263\n",
      "  0.007153081740733319 -0.003279784615226984 -- -- -- 0.06119894451783771]\n",
      " [0.33953092700960935 -0.4262949050067979 -0.12173092490325936\n",
      "  0.3419203793735247 -- -- -- -0.04696549159464498 -0.050334897790466085\n",
      "  0.17737751808166904 -0.10332142071422003 1.0 -- 0.04089859876263417\n",
      "  -0.0006894214689589958 -0.007516966335580849 -0.08578739055124743\n",
      "  -0.007545623996935668 0.001315126114962328 0.019660006201323337\n",
      "  0.006779068697493785 0.16113596591191595 -- 0.27755929684446823\n",
      "  0.004868572485886241 -0.002665043846037586 -- -- -- 0.2775592936769137]\n",
      " [-- -- -- -- -- -- -- -- -- -- -- -- -- -- -- -- -- -- -- -- -- -- -- --\n",
      "  -- -- -- -- -- --]\n",
      " [0.08816541743689257 -0.0776563594006213 0.3060637624466627\n",
      "  0.3588257911150037 -- -- -- -0.15175600747849194 0.03821946602875578\n",
      "  0.5944050479388684 -0.5041582479654803 0.04089859876263417 -- 1.0\n",
      "  -0.006199366996554479 0.0012241582403573422 0.07017448908086898\n",
      "  -0.008319987798423672 0.005534277772838928 0.13120858471001617\n",
      "  0.0005173839445109698 0.4787329179287006 -- 0.3596904774397209\n",
      "  -0.003106381274238884 0.006026761296917229 -- -- -- 0.3596904773714858]\n",
      " [-0.01021549067817705 0.0059303897368989085 -0.006715742261748349\n",
      "  -0.0041225444803621395 -- -- -- -0.005580512024001127\n",
      "  0.0034720780276294083 -0.005755504723270138 0.0009537750618056177\n",
      "  -0.0006894214689589958 -- -0.006199366996554479 1.0\n",
      "  -0.00041412211205548116 -0.004975313428526041 0.5428691149865816\n",
      "  0.0010314860719586312 0.0016101529378193765 -0.0016651869761865382\n",
      "  -0.0030086092119404515 -- -0.0030734762394045013 0.23364942789581847\n",
      "  -0.001324141409352048 -- -- -- -0.003073485600374178]\n",
      " [-0.005557175570542477 0.005140438767403693 -0.003381760167650875\n",
      "  0.003291342406703403 -- -- -- -0.010370307626537187\n",
      "  -0.0025026405607861367 0.002236053183381588 -0.00011129041925919061\n",
      "  -0.007516966335580849 -- 0.0012241582403573422 -0.00041412211205548116\n",
      "  1.0 -0.0008294052007436157 -0.0062657661654342825 -0.19850192339470482\n",
      "  0.0020617323724818433 0.01623673708754878 0.004011479360503295 --\n",
      "  0.0030502303836645026 -0.0018995625952744565 -0.16220732522179857 -- --\n",
      "  -- 0.003050229122932324]\n",
      " [0.050531186219435954 0.3660764777663905 0.43271003276155906\n",
      "  0.3013569747655221 -- -- -- -0.015682651795626657 0.03383827359785013\n",
      "  0.5541853859414353 0.7098679986369051 -0.08578739055124743 --\n",
      "  0.07017448908086898 -0.004975313428526041 -0.0008294052007436157 1.0\n",
      "  0.0003502450025620827 -0.004916096040310592 0.09517582474628178\n",
      "  -0.0016485396501748906 0.3483652345387447 -- 0.29483972039034706\n",
      "  0.0036928738390003195 0.0002501294388846036 -- -- --\n",
      "  0.29483972714676154]\n",
      " [-0.0021500752310727516 0.009018657852938042 0.0007481745716387259\n",
      "  -0.007668415318145023 -- -- -- 0.003171494182269276\n",
      "  0.0011288861678433832 -0.006510593848771181 0.00649823727903059\n",
      "  -0.007545623996935668 -- -0.008319987798423672 0.5428691149865816\n",
      "  -0.0062657661654342825 0.0003502450025620827 1.0 -0.0034056432608972776\n",
      "  -0.004454165122138961 -0.003716748995240402 -0.0024767178028316803 --\n",
      "  -0.005693308984835955 0.25465870133682383 0.003364672595509453 -- -- --\n",
      "  -0.005693310804332602]\n",
      " [0.0019444151078546487 -0.001399728439441013 -0.003556009526499563\n",
      "  -0.0025888407956629433 -- -- -- -0.0038351674977864284\n",
      "  -0.00025697228667536314 -0.0015660714778699166 -0.00513364178477193\n",
      "  0.001315126114962328 -- 0.005534277772838928 0.0010314860719586312\n",
      "  -0.19850192339470482 -0.004916096040310592 -0.0034056432608972776 1.0\n",
      "  -0.0046953486624505955 0.09785982808090435 -0.00668040211888478 --\n",
      "  -0.0025123839787752358 0.0010937372976026595 -0.27123598663353676 -- --\n",
      "  -- -0.0025123839308969333]\n",
      " [-0.3366136753699433 0.2655241363507413 -0.05075547861651337\n",
      "  0.613056438525145 -- -- -- -0.2323549410445847 0.12749765688533551\n",
      "  0.4888290328095949 0.008686853091679379 0.019660006201323337 --\n",
      "  0.13120858471001617 0.0016101529378193765 0.0020617323724818433\n",
      "  0.09517582474628178 -0.004454165122138961 -0.0046953486624505955 1.0\n",
      "  -0.0021563858474461235 0.42238742279285846 -- 0.5996331100069431\n",
      "  -0.0010208268812910842 0.002797438645624234 -- -- -- 0.5996331001854167]\n",
      " [0.006634123963249338 -0.015876842998834243 2.7829290135315184e-05\n",
      "  0.0048952171875693935 -- -- -- -0.000558076640967651\n",
      "  -0.0022794558115971203 0.0028014715778029364 -0.0015464127458998025\n",
      "  0.006779068697493785 -- 0.0005173839445109698 -0.0016651869761865382\n",
      "  0.01623673708754878 -0.0016485396501748906 -0.003716748995240402\n",
      "  0.09785982808090435 -0.0021563858474461235 1.0 -0.0023840313159183245\n",
      "  -- 0.004582319286536781 -0.0013093747751352367 -0.2731649440759246 --\n",
      "  -- -- 0.004582322506861627]\n",
      " [0.11407553295761799 -0.051715271199512844 0.1192556300325276\n",
      "  0.7125818159025537 -- -- -- -0.3013220428294547 0.2693787752031753\n",
      "  0.7579901282084879 0.016317958179008902 0.16113596591191595 --\n",
      "  0.4787329179287006 -0.0030086092119404515 0.004011479360503295\n",
      "  0.3483652345387447 -0.0024767178028316803 -0.00668040211888478\n",
      "  0.42238742279285846 -0.0023840313159183245 1.0 -- 0.7068771933564623\n",
      "  0.0023105588500947514 0.0017958437126068681 -- -- -- 0.7068771905369516]\n",
      " [-- -- -- -- -- -- -- -- -- -- -- -- -- -- -- -- -- -- -- -- -- -- -- --\n",
      "  -- -- -- -- -- --]\n",
      " [0.07630377209068637 -0.1524598650656572 -0.04777477591031716\n",
      "  0.9367590332144755 -- -- -- -0.4431759482776294 0.06479252874730695\n",
      "  0.9051662981927856 0.06119894058253263 0.27755929684446823 --\n",
      "  0.3596904774397209 -0.0030734762394045013 0.0030502303836645026\n",
      "  0.29483972039034706 -0.005693308984835955 -0.0025123839787752358\n",
      "  0.5996331100069431 0.004582319286536781 0.7068771933564623 -- 1.0\n",
      "  0.001229214976045319 -0.003722594386408419 -- -- -- 0.9999999999990169]\n",
      " [0.0002683954555025334 -0.0007455777040061264 0.0004080219089896866\n",
      "  0.0028812303359754005 -- -- -- -0.00068978946670956\n",
      "  0.001060180613340539 0.001059236475700161 0.007153081740733319\n",
      "  0.004868572485886241 -- -0.003106381274238884 0.23364942789581847\n",
      "  -0.0018995625952744565 0.0036928738390003195 0.25465870133682383\n",
      "  0.0010937372976026595 -0.0010208268812910842 -0.0013093747751352367\n",
      "  0.0023105588500947514 -- 0.001229214976045319 1.0 -0.002299989897067378\n",
      "  -- -- -- 0.0012292164122440288]\n",
      " [-0.0013735963557679073 0.007109557582876073 0.008846706232739983\n",
      "  -0.0029821559605221776 -- -- -- 0.011137270779130144\n",
      "  0.00236323749706423 -0.0005547484217243454 -0.003279784615226984\n",
      "  -0.002665043846037586 -- 0.006026761296917229 -0.001324141409352048\n",
      "  -0.16220732522179857 0.0002501294388846036 0.003364672595509453\n",
      "  -0.27123598663353676 0.002797438645624234 -0.2731649440759246\n",
      "  0.0017958437126068681 -- -0.003722594386408419 -0.002299989897067378\n",
      "  1.0 -- -- -- -0.0037225992279674653]\n",
      " [-- -- -- -- -- -- -- -- -- -- -- -- -- -- -- -- -- -- -- -- -- -- -- --\n",
      "  -- -- -- -- -- --]\n",
      " [-- -- -- -- -- -- -- -- -- -- -- -- -- -- -- -- -- -- -- -- -- -- -- --\n",
      "  -- -- -- -- -- --]\n",
      " [-- -- -- -- -- -- -- -- -- -- -- -- -- -- -- -- -- -- -- -- -- -- -- --\n",
      "  -- -- -- -- -- --]\n",
      " [0.07630377874407156 -0.15245986638917672 -0.047774772245834776\n",
      "  0.9367590311733173 -- -- -- -0.4431759501325024 0.06479253299090142\n",
      "  0.9051663003822757 0.06119894451783771 0.2775592936769137 --\n",
      "  0.3596904773714858 -0.003073485600374178 0.003050229122932324\n",
      "  0.29483972714676154 -0.005693310804332602 -0.0025123839308969333\n",
      "  0.5996331001854167 0.004582322506861627 0.7068771905369516 --\n",
      "  0.9999999999990169 0.0012292164122440288 -0.0037225992279674653 -- --\n",
      "  -- 1.0]]\n"
     ]
    },
    {
     "data": {
      "image/png": "[encoded data removed]",
      "text/plain": [
       "<Figure size 432x288 with 2 Axes>"
      ]
     },
     "metadata": {
      "needs_background": "light"
     },
     "output_type": "display_data"
    }
   ],
   "source": [
    "corr_mat = np.ma.corrcoef(data_list[1], rowvar=False)\n",
    "print(corr_mat)\n",
    "#corr_mat[corr_mat == np.nan] = 0\n",
    "plt.imshow(np.abs(corr_mat), cmap='Blues')\n",
    "plt.colorbar()\n",
    "plt.show()"
   ]
  },
  {
   "cell_type": "code",
   "execution_count": 96,
   "id": "placed-health",
   "metadata": {},
   "outputs": [
    {
     "name": "stdout",
     "output_type": "stream",
     "text": [
      "[[ 0  2]\n",
      " [ 3  9]\n",
      " [ 3 23]\n",
      " [ 3 29]\n",
      " [ 4  5]\n",
      " [ 9 21]\n",
      " [ 9 23]\n",
      " [ 9 29]\n",
      " [21 29]\n",
      " [22 29]\n",
      " [23 29]\n",
      " [26 29]]\n"
     ]
    }
   ],
   "source": [
    "corr_indices = np.argwhere(np.abs(np.triu(corr_mat - np.eye(30))) > 0.8)\n",
    "print(corr_indices)"
   ]
  },
  {
   "cell_type": "code",
   "execution_count": 97,
   "id": "simplified-decline",
   "metadata": {},
   "outputs": [
    {
     "name": "stdout",
     "output_type": "stream",
     "text": [
      "[ 0  3  4  9 21 22 23 26] [ 2  5  9 21 23 29]\n"
     ]
    }
   ],
   "source": [
    "unique_ind1 = np.unique(corr_indices[:, 0])\n",
    "unique_ind2 = np.unique(corr_indices[:, 1])\n",
    "print(unique_ind1, unique_ind2)"
   ]
  },
  {
   "cell_type": "code",
   "execution_count": 98,
   "id": "informative-olympus",
   "metadata": {},
   "outputs": [],
   "source": [
    "len1 = len(unique_ind1)\n",
    "len2 = len(unique_ind2)\n",
    "corr_ind_reduce_short = (unique_ind1, unique_ind2)[len(unique_ind1) > len(unique_ind2)]\n",
    "corr_ind_reduce_big = (unique_ind1, unique_ind2)[len(unique_ind1) < len(unique_ind2)]\n",
    "corr_ind_to_keep = []\n",
    "for ind in corr_ind_reduce_short:\n",
    "    is_in = np.isin(ind, corr_ind_reduce_big)\n",
    "    if not is_in:\n",
    "        corr_ind_to_keep.append(ind)"
   ]
  },
  {
   "cell_type": "code",
   "execution_count": 99,
   "id": "dried-clearance",
   "metadata": {},
   "outputs": [
    {
     "name": "stdout",
     "output_type": "stream",
     "text": [
      "(11,)\n"
     ]
    }
   ],
   "source": [
    "all_ind = np.unique(corr_indices.flatten())\n",
    "print(all_ind.shape)"
   ]
  },
  {
   "cell_type": "code",
   "execution_count": 100,
   "id": "verbal-thousand",
   "metadata": {},
   "outputs": [],
   "source": [
    "corr_ind_to_throw = np.setdiff1d(all_ind, corr_ind_to_keep)"
   ]
  },
  {
   "cell_type": "code",
   "execution_count": 101,
   "id": "illegal-strip",
   "metadata": {},
   "outputs": [
    {
     "data": {
      "text/plain": [
       "(array([ 2,  5, 29]), array([ 0,  3,  4,  9, 21, 22, 23, 26]))"
      ]
     },
     "execution_count": 101,
     "metadata": {},
     "output_type": "execute_result"
    }
   ],
   "source": [
    "np.array(corr_ind_to_keep), corr_ind_to_throw"
   ]
  },
  {
   "cell_type": "code",
   "execution_count": null,
   "id": "remarkable-arrival",
   "metadata": {},
   "outputs": [],
   "source": []
  },
  {
   "cell_type": "code",
   "execution_count": null,
   "id": "apparent-basic",
   "metadata": {},
   "outputs": [],
   "source": []
  },
  {
   "cell_type": "code",
   "execution_count": null,
   "id": "public-dubai",
   "metadata": {},
   "outputs": [],
   "source": []
  },
  {
   "cell_type": "code",
   "execution_count": 107,
   "id": "connected-clock",
   "metadata": {},
   "outputs": [],
   "source": [
    "keep, throw = feature_selection(new_data, 0.8)"
   ]
  },
  {
   "cell_type": "code",
   "execution_count": 108,
   "id": "ordered-klein",
   "metadata": {},
   "outputs": [
    {
     "data": {
      "text/plain": [
       "(array([ 2,  5, 29]), array([ 0,  3,  4,  9, 21, 22, 23, 26]))"
      ]
     },
     "execution_count": 108,
     "metadata": {},
     "output_type": "execute_result"
    }
   ],
   "source": [
    "keep, throw"
   ]
  },
  {
   "cell_type": "code",
   "execution_count": null,
   "id": "female-poker",
   "metadata": {},
   "outputs": [],
   "source": []
  },
  {
   "cell_type": "code",
   "execution_count": null,
   "id": "02d2f402",
   "metadata": {},
   "outputs": [],
   "source": []
  },
  {
   "cell_type": "code",
   "execution_count": null,
   "id": "a8864d85",
   "metadata": {},
   "outputs": [],
   "source": []
  },
  {
   "cell_type": "code",
   "execution_count": 19,
   "id": "3b5cc8bb",
   "metadata": {},
   "outputs": [
    {
     "name": "stdout",
     "output_type": "stream",
     "text": [
      "[array([ 4,  5,  6,  8, 12, 22, 23, 24, 25, 26, 27, 28, 29])\n",
      " array([ 3,  4,  5,  6,  9, 12, 22, 23, 26, 27, 28])]\n"
     ]
    },
    {
     "name": "stderr",
     "output_type": "stream",
     "text": [
      "/Users/AntoineDaeniker/anaconda3/lib/python3.7/site-packages/ipykernel_launcher.py:1: VisibleDeprecationWarning: Creating an ndarray from ragged nested sequences (which is a list-or-tuple of lists-or-tuples-or ndarrays with different lengths or shapes) is deprecated. If you meant to do this, you must specify 'dtype=object' when creating the ndarray\n",
      "  \"\"\"Entry point for launching an IPython kernel.\n"
     ]
    }
   ],
   "source": [
    "ind = np.array((rmv_ind[0], rmv_ind[1]))\n",
    "print(ind)"
   ]
  },
  {
   "cell_type": "code",
   "execution_count": 6,
   "id": "5d1520b8",
   "metadata": {},
   "outputs": [
    {
     "ename": "ValueError",
     "evalue": "Some errors were detected !\n    Line #3 (got 29 columns instead of 21)\n    Line #4 (got 28 columns instead of 21)",
     "output_type": "error",
     "traceback": [
      "\u001b[0;31m---------------------------------------------------------------------------\u001b[0m",
      "\u001b[0;31mValueError\u001b[0m                                Traceback (most recent call last)",
      "\u001b[0;32m/var/folders/f3/3d8xjmhn3lb1y_bqwhqfy7t80000gn/T/ipykernel_21387/498828476.py\u001b[0m in \u001b[0;36m<module>\u001b[0;34m\u001b[0m\n\u001b[0;32m----> 1\u001b[0;31m \u001b[0mws\u001b[0m \u001b[0;34m=\u001b[0m \u001b[0mload_csv_data\u001b[0m\u001b[0;34m(\u001b[0m\u001b[0;34m'../sgd_model_split.csv'\u001b[0m\u001b[0;34m)\u001b[0m\u001b[0;34m\u001b[0m\u001b[0;34m\u001b[0m\u001b[0m\n\u001b[0m",
      "\u001b[0;32m~/Documents/EPFL/Master 1/ML_course/ML_project/utils/io_utils.py\u001b[0m in \u001b[0;36mload_csv_data\u001b[0;34m(data_path, sub_sample)\u001b[0m\n\u001b[1;32m      8\u001b[0m     \u001b[0;34m\"\"\"Loads data and returns y (class labels), tX (features) and ids (event ids)\"\"\"\u001b[0m\u001b[0;34m\u001b[0m\u001b[0;34m\u001b[0m\u001b[0m\n\u001b[1;32m      9\u001b[0m     \u001b[0my\u001b[0m \u001b[0;34m=\u001b[0m \u001b[0mnp\u001b[0m\u001b[0;34m.\u001b[0m\u001b[0mgenfromtxt\u001b[0m\u001b[0;34m(\u001b[0m\u001b[0mdata_path\u001b[0m\u001b[0;34m,\u001b[0m \u001b[0mdelimiter\u001b[0m\u001b[0;34m=\u001b[0m\u001b[0;34m\",\"\u001b[0m\u001b[0;34m,\u001b[0m \u001b[0mskip_header\u001b[0m\u001b[0;34m=\u001b[0m\u001b[0;36m1\u001b[0m\u001b[0;34m,\u001b[0m \u001b[0mdtype\u001b[0m\u001b[0;34m=\u001b[0m\u001b[0mstr\u001b[0m\u001b[0;34m,\u001b[0m \u001b[0musecols\u001b[0m\u001b[0;34m=\u001b[0m\u001b[0;36m1\u001b[0m\u001b[0;34m)\u001b[0m\u001b[0;34m\u001b[0m\u001b[0;34m\u001b[0m\u001b[0m\n\u001b[0;32m---> 10\u001b[0;31m     \u001b[0mx\u001b[0m \u001b[0;34m=\u001b[0m \u001b[0mnp\u001b[0m\u001b[0;34m.\u001b[0m\u001b[0mgenfromtxt\u001b[0m\u001b[0;34m(\u001b[0m\u001b[0mdata_path\u001b[0m\u001b[0;34m,\u001b[0m \u001b[0mdelimiter\u001b[0m\u001b[0;34m=\u001b[0m\u001b[0;34m\",\"\u001b[0m\u001b[0;34m,\u001b[0m \u001b[0mskip_header\u001b[0m\u001b[0;34m=\u001b[0m\u001b[0;36m1\u001b[0m\u001b[0;34m)\u001b[0m\u001b[0;34m\u001b[0m\u001b[0;34m\u001b[0m\u001b[0m\n\u001b[0m\u001b[1;32m     11\u001b[0m     \u001b[0mids\u001b[0m \u001b[0;34m=\u001b[0m \u001b[0mx\u001b[0m\u001b[0;34m[\u001b[0m\u001b[0;34m:\u001b[0m\u001b[0;34m,\u001b[0m \u001b[0;36m0\u001b[0m\u001b[0;34m]\u001b[0m\u001b[0;34m.\u001b[0m\u001b[0mastype\u001b[0m\u001b[0;34m(\u001b[0m\u001b[0mnp\u001b[0m\u001b[0;34m.\u001b[0m\u001b[0mint\u001b[0m\u001b[0;34m)\u001b[0m\u001b[0;34m\u001b[0m\u001b[0;34m\u001b[0m\u001b[0m\n\u001b[1;32m     12\u001b[0m     \u001b[0minput_data\u001b[0m \u001b[0;34m=\u001b[0m \u001b[0mx\u001b[0m\u001b[0;34m[\u001b[0m\u001b[0;34m:\u001b[0m\u001b[0;34m,\u001b[0m \u001b[0;36m2\u001b[0m\u001b[0;34m:\u001b[0m\u001b[0;34m]\u001b[0m\u001b[0;34m\u001b[0m\u001b[0;34m\u001b[0m\u001b[0m\n",
      "\u001b[0;32m~/anaconda3/lib/python3.7/site-packages/numpy/lib/npyio.py\u001b[0m in \u001b[0;36mgenfromtxt\u001b[0;34m(fname, dtype, comments, delimiter, skip_header, skip_footer, converters, missing_values, filling_values, usecols, names, excludelist, deletechars, replace_space, autostrip, case_sensitive, defaultfmt, unpack, usemask, loose, invalid_raise, max_rows, encoding)\u001b[0m\n\u001b[1;32m   2078\u001b[0m             \u001b[0;31m# Raise an exception ?\u001b[0m\u001b[0;34m\u001b[0m\u001b[0;34m\u001b[0m\u001b[0;34m\u001b[0m\u001b[0m\n\u001b[1;32m   2079\u001b[0m             \u001b[0;32mif\u001b[0m \u001b[0minvalid_raise\u001b[0m\u001b[0;34m:\u001b[0m\u001b[0;34m\u001b[0m\u001b[0;34m\u001b[0m\u001b[0m\n\u001b[0;32m-> 2080\u001b[0;31m                 \u001b[0;32mraise\u001b[0m \u001b[0mValueError\u001b[0m\u001b[0;34m(\u001b[0m\u001b[0merrmsg\u001b[0m\u001b[0;34m)\u001b[0m\u001b[0;34m\u001b[0m\u001b[0;34m\u001b[0m\u001b[0m\n\u001b[0m\u001b[1;32m   2081\u001b[0m             \u001b[0;31m# Issue a warning ?\u001b[0m\u001b[0;34m\u001b[0m\u001b[0;34m\u001b[0m\u001b[0;34m\u001b[0m\u001b[0m\n\u001b[1;32m   2082\u001b[0m             \u001b[0;32melse\u001b[0m\u001b[0;34m:\u001b[0m\u001b[0;34m\u001b[0m\u001b[0;34m\u001b[0m\u001b[0m\n",
      "\u001b[0;31mValueError\u001b[0m: Some errors were detected !\n    Line #3 (got 29 columns instead of 21)\n    Line #4 (got 28 columns instead of 21)"
     ]
    }
   ],
   "source": [
    "ws = load_csv_data('../sgd_model_split.csv')"
   ]
  },
  {
   "cell_type": "code",
   "execution_count": null,
   "id": "711e1564",
   "metadata": {},
   "outputs": [],
   "source": []
  }
 ],
 "metadata": {
  "kernelspec": {
   "display_name": "Python 3 (ipykernel)",
   "language": "python",
   "name": "python3"
  },
  "language_info": {
   "codemirror_mode": {
    "name": "ipython",
    "version": 3
   },
   "file_extension": ".py",
   "mimetype": "text/x-python",
   "name": "python",
   "nbconvert_exporter": "python",
   "pygments_lexer": "ipython3",
   "version": "3.7.9"
  }
 },
 "nbformat": 4,
 "nbformat_minor": 5
}
