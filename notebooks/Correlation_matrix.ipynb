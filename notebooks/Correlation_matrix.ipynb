{
 "cells": [
  {
   "cell_type": "code",
   "execution_count": 1,
   "id": "czech-intro",
   "metadata": {},
   "outputs": [],
   "source": [
    "# Useful starting lines\n",
    "%matplotlib inline\n",
    "import numpy as np\n",
    "import matplotlib.pyplot as plt\n",
    "from implementations import *\n",
    "import datetime\n",
    "%load_ext autoreload\n",
    "%autoreload 2"
   ]
  },
  {
   "cell_type": "code",
   "execution_count": 2,
   "id": "sized-novel",
   "metadata": {},
   "outputs": [
    {
     "name": "stdout",
     "output_type": "stream",
     "text": [
      "(250000,) (250000, 30)\n"
     ]
    }
   ],
   "source": [
    "from proj1_helpers import *\n",
    "DATA_TRAIN_PATH = '/Users/AntoineDaeniker/Documents/EPFL/Master 1/ML_course/projects/project1/data/train.csv' # TODO: download train data and supply path here \n",
    "y, tX, tXt, ids = load_csv_data(DATA_TRAIN_PATH)\n",
    "print(y.shape, tX.shape)"
   ]
  },
  {
   "cell_type": "code",
   "execution_count": 3,
   "id": "marked-designation",
   "metadata": {},
   "outputs": [
    {
     "ename": "NameError",
     "evalue": "name 'data_process' is not defined",
     "output_type": "error",
     "traceback": [
      "\u001b[0;31m---------------------------------------------------------------------------\u001b[0m",
      "\u001b[0;31mNameError\u001b[0m                                 Traceback (most recent call last)",
      "\u001b[0;32m/var/folders/f3/3d8xjmhn3lb1y_bqwhqfy7t80000gn/T/ipykernel_97215/2932851184.py\u001b[0m in \u001b[0;36m<module>\u001b[0;34m\u001b[0m\n\u001b[0;32m----> 1\u001b[0;31m \u001b[0mnew_data\u001b[0m \u001b[0;34m=\u001b[0m \u001b[0mdata_process\u001b[0m\u001b[0;34m(\u001b[0m\u001b[0mtX\u001b[0m\u001b[0;34m)\u001b[0m\u001b[0;34m\u001b[0m\u001b[0;34m\u001b[0m\u001b[0m\n\u001b[0m",
      "\u001b[0;31mNameError\u001b[0m: name 'data_process' is not defined"
     ]
    }
   ],
   "source": [
    "new_data = data_process(tX)"
   ]
  },
  {
   "cell_type": "code",
   "execution_count": null,
   "id": "comparable-compression",
   "metadata": {},
   "outputs": [],
   "source": [
    "corr_mat = np.corrcoef(new_data, rowvar=False)\n",
    "plt.imshow(np.abs(corr_mat), cmap='Blues')\n",
    "plt.colorbar()\n",
    "plt.show()"
   ]
  },
  {
   "cell_type": "code",
   "execution_count": 96,
   "id": "placed-health",
   "metadata": {},
   "outputs": [
    {
     "name": "stdout",
     "output_type": "stream",
     "text": [
      "[[ 0  2]\n",
      " [ 3  9]\n",
      " [ 3 23]\n",
      " [ 3 29]\n",
      " [ 4  5]\n",
      " [ 9 21]\n",
      " [ 9 23]\n",
      " [ 9 29]\n",
      " [21 29]\n",
      " [22 29]\n",
      " [23 29]\n",
      " [26 29]]\n"
     ]
    }
   ],
   "source": [
    "corr_indices = np.argwhere(np.abs(np.triu(corr_mat - np.eye(30))) > 0.8)\n",
    "print(corr_indices)"
   ]
  },
  {
   "cell_type": "code",
   "execution_count": 97,
   "id": "simplified-decline",
   "metadata": {},
   "outputs": [
    {
     "name": "stdout",
     "output_type": "stream",
     "text": [
      "[ 0  3  4  9 21 22 23 26] [ 2  5  9 21 23 29]\n"
     ]
    }
   ],
   "source": [
    "unique_ind1 = np.unique(corr_indices[:, 0])\n",
    "unique_ind2 = np.unique(corr_indices[:, 1])\n",
    "print(unique_ind1, unique_ind2)"
   ]
  },
  {
   "cell_type": "code",
   "execution_count": 98,
   "id": "informative-olympus",
   "metadata": {},
   "outputs": [],
   "source": [
    "len1 = len(unique_ind1)\n",
    "len2 = len(unique_ind2)\n",
    "corr_ind_reduce_short = (unique_ind1, unique_ind2)[len(unique_ind1) > len(unique_ind2)]\n",
    "corr_ind_reduce_big = (unique_ind1, unique_ind2)[len(unique_ind1) < len(unique_ind2)]\n",
    "corr_ind_to_keep = []\n",
    "for ind in corr_ind_reduce_short:\n",
    "    is_in = np.isin(ind, corr_ind_reduce_big)\n",
    "    if not is_in:\n",
    "        corr_ind_to_keep.append(ind)"
   ]
  },
  {
   "cell_type": "code",
   "execution_count": 99,
   "id": "dried-clearance",
   "metadata": {},
   "outputs": [
    {
     "name": "stdout",
     "output_type": "stream",
     "text": [
      "(11,)\n"
     ]
    }
   ],
   "source": [
    "all_ind = np.unique(corr_indices.flatten())\n",
    "print(all_ind.shape)"
   ]
  },
  {
   "cell_type": "code",
   "execution_count": 100,
   "id": "verbal-thousand",
   "metadata": {},
   "outputs": [],
   "source": [
    "corr_ind_to_throw = np.setdiff1d(all_ind, corr_ind_to_keep)"
   ]
  },
  {
   "cell_type": "code",
   "execution_count": 101,
   "id": "illegal-strip",
   "metadata": {},
   "outputs": [
    {
     "data": {
      "text/plain": [
       "(array([ 2,  5, 29]), array([ 0,  3,  4,  9, 21, 22, 23, 26]))"
      ]
     },
     "execution_count": 101,
     "metadata": {},
     "output_type": "execute_result"
    }
   ],
   "source": [
    "np.array(corr_ind_to_keep), corr_ind_to_throw"
   ]
  },
  {
   "cell_type": "code",
   "execution_count": null,
   "id": "remarkable-arrival",
   "metadata": {},
   "outputs": [],
   "source": []
  },
  {
   "cell_type": "code",
   "execution_count": null,
   "id": "apparent-basic",
   "metadata": {},
   "outputs": [],
   "source": []
  },
  {
   "cell_type": "code",
   "execution_count": null,
   "id": "public-dubai",
   "metadata": {},
   "outputs": [],
   "source": []
  },
  {
   "cell_type": "code",
   "execution_count": 107,
   "id": "connected-clock",
   "metadata": {},
   "outputs": [],
   "source": [
    "keep, throw = feature_selection(new_data, 0.8)"
   ]
  },
  {
   "cell_type": "code",
   "execution_count": 108,
   "id": "ordered-klein",
   "metadata": {},
   "outputs": [
    {
     "data": {
      "text/plain": [
       "(array([ 2,  5, 29]), array([ 0,  3,  4,  9, 21, 22, 23, 26]))"
      ]
     },
     "execution_count": 108,
     "metadata": {},
     "output_type": "execute_result"
    }
   ],
   "source": [
    "keep, throw"
   ]
  },
  {
   "cell_type": "code",
   "execution_count": null,
   "id": "female-poker",
   "metadata": {},
   "outputs": [],
   "source": []
  }
 ],
 "metadata": {
  "kernelspec": {
   "display_name": "Python 3",
   "language": "python",
   "name": "python3"
  },
  "language_info": {
   "codemirror_mode": {
    "name": "ipython",
    "version": 3
   },
   "file_extension": ".py",
   "mimetype": "text/x-python",
   "name": "python",
   "nbconvert_exporter": "python",
   "pygments_lexer": "ipython3",
   "version": "3.8.8"
  }
 },
 "nbformat": 4,
 "nbformat_minor": 5
}
